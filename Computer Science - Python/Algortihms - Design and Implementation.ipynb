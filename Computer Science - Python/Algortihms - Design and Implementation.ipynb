{
 "cells": [
  {
   "cell_type": "markdown",
   "metadata": {},
   "source": [
    "# Design and Implement Algorithms (Greedy Interval Scheduling, 7 Points)\n",
    "\n",
    "In interval scheduling, we are given a set of tasks \\( \\{j_1, j_2, j_3, \\ldots, j_n\\} \\) that each start at time \\( s_j \\) and finish at time \\( f_j \\). A processor can only work on one task at a time. Please find provably optimal greedy strategies for the following two interval scheduling tasks, and implement them in Python. In your implementation, the problem instance should be described as a dictionary, whose keys are the job IDs and whose values are pairs of start and finish times. For example, one possible instance, illustrated in Figure 1, would be \\( \\{a : (0, 6), b : (1, 4), c : (3, 5), d : (3, 8), e : (4, 7), f : (5, 9), g : (6, 10), h : (8, 11)\\} \\).\n",
    "\n",
    "### a) Single Processor Interval Scheduling\n",
    "\n",
    "Assume that only a single processor is available. Select a subset of tasks so that they are compatible (i.e., none of them overlap with each other), and that the number of selected tasks is optimal, i.e., any larger subset would contain at least one incompatible pair of tasks. (2P)\n",
    "\n",
    "**Hint:** As indicated in Figure 1, the optimal subset in this example would be \\( \\{b, e, h\\} \\).\n",
    "\n",
    "### b) Minimum Number of Processors\n",
    "\n",
    "Find the minimum number of processors that is required to complete all tasks. Output a feasible assignment of tasks to this number of processors. (3P)\n",
    "\n",
    "### c) Time Complexity Analysis\n",
    "\n",
    "For each of the tasks above, present the time complexity and explain it. (2P)\n"
   ]
  },
  {
   "cell_type": "markdown",
   "metadata": {},
   "source": [
    "Create an example for the problem using a Dictionary"
   ]
  },
  {
   "cell_type": "code",
   "execution_count": 1,
   "metadata": {},
   "outputs": [],
   "source": [
    "tasks_dict = {\n",
    "    'a' : (0,6),\n",
    "    'b' : (1,4),\n",
    "    'c' : (3,5),\n",
    "    'd' : (3,8),\n",
    "    'e' : (4,7),\n",
    "    'f' : (5,9),\n",
    "    'g' : (6,10),\n",
    "    'h' : (8,11)\n",
    "}"
   ]
  },
  {
   "cell_type": "markdown",
   "metadata": {},
   "source": [
    "Create a sorted list of tasks (by finish times)"
   ]
  },
  {
   "cell_type": "code",
   "execution_count": 2,
   "metadata": {},
   "outputs": [],
   "source": [
    "def schedule_tasks(tasks_dict):\n",
    "    '''Sort the tasks in a list ascendingly by finish times'''\n",
    "    tasks_sorted = dict(sorted(tasks_dict.items(), key= lambda item: item[1][1]))   #T(n) = nlog(n)\n",
    "\n",
    "    '''Create an empty list of selected tasks'''\n",
    "    selected_tasks = []\n",
    "\n",
    "    for t,v in tasks_sorted.items():    #T(n) = n\n",
    "        '''if 1st Task or Compatible Task (Start time >= Finish time of last added task), Select the task'''\n",
    "        if len(selected_tasks) == 0 or v[0] >= tasks_sorted[selected_tasks[-1]][1]:\n",
    "            selected_tasks.append(t)\n",
    "\n",
    "    return set(selected_tasks)\n"
   ]
  },
  {
   "cell_type": "markdown",
   "metadata": {},
   "source": [
    "$T(n)$ for schedule_tasks() function = $n\\log{}n+n$ = $\\mathcal{O}(n\\log{}n)$, Check comments for illustration"
   ]
  },
  {
   "cell_type": "code",
   "execution_count": 3,
   "metadata": {},
   "outputs": [
    {
     "data": {
      "text/plain": [
       "{'b', 'e', 'h'}"
      ]
     },
     "execution_count": 3,
     "metadata": {},
     "output_type": "execute_result"
    }
   ],
   "source": [
    "schedule_tasks(tasks_dict)  #Testing the algorithm."
   ]
  },
  {
   "cell_type": "code",
   "execution_count": 4,
   "metadata": {},
   "outputs": [
    {
     "name": "stdout",
     "output_type": "stream",
     "text": [
      "4\n",
      "[{'e', 'h', 'b'}, {'c', 'f'}, {'a', 'g'}, {'d'}]\n"
     ]
    }
   ],
   "source": [
    "'''processor counter & Empty list of feasable tasks subsets'''\n",
    "processor_counter = 0\n",
    "tasks_subsets = []\n",
    "\n",
    "while len(tasks_dict.keys()) != 0:  #T(n) = n\n",
    "    '''While Tasks Dictionary is Not Empty, Schedule_tasks and save them as a subset of scheduled tasks\n",
    "        in the tasks_subsets list, then delete each scheduled task from Tasks_dictionary and increment\n",
    "            processor counter by 1'''\n",
    "    tasks_subsets.append(set(schedule_tasks(tasks_dict)))   #T(n) = nlog(n)\n",
    "    for t in tasks_subsets[-1]:     #T(n) = n\n",
    "        del tasks_dict[t[0]]\n",
    "    processor_counter += 1      #T(n) = 1\n",
    "\n",
    "print(processor_counter)\n",
    "print(tasks_subsets)"
   ]
  },
  {
   "cell_type": "markdown",
   "metadata": {},
   "source": [
    "Time Complexity $T(n)=n (n\\log{}n+n+1)=\\mathcal{O}(n^2)$, Check comments for illustration"
   ]
  }
 ],
 "metadata": {
  "kernelspec": {
   "display_name": "Python 3 (ipykernel)",
   "language": "python",
   "name": "python3"
  },
  "language_info": {
   "codemirror_mode": {
    "name": "ipython",
    "version": 3
   },
   "file_extension": ".py",
   "mimetype": "text/x-python",
   "name": "python",
   "nbconvert_exporter": "python",
   "pygments_lexer": "ipython3",
   "version": "3.11.4"
  }
 },
 "nbformat": 4,
 "nbformat_minor": 2
}
