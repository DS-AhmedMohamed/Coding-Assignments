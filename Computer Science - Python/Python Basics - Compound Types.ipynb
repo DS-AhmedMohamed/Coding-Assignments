{
 "cells": [
  {
   "cell_type": "markdown",
   "metadata": {},
   "source": [
    "#### Name : Ahmed Mohamed  |  Ahmed.H.H.Muhamed@gmail.com"
   ]
  },
  {
   "cell_type": "markdown",
   "metadata": {},
   "source": [
    "# Assignment 2 - Compound Types"
   ]
  },
  {
   "cell_type": "markdown",
   "metadata": {},
   "source": [
    "### Exercise 1 - Dictionaries"
   ]
  },
  {
   "cell_type": "markdown",
   "metadata": {},
   "source": [
    "a) Write a function called add_population that takes the name of a species as input from the user.\n",
    "If the species exists in the species_populations dictionary, the function should add the given\n",
    "population size and update the population of that species accordingly (3P). If the species is not\n",
    "in the dictionary, add it to species_populations with the given population size. Finally, print\n",
    "the updated species_populations dictionary."
   ]
  },
  {
   "cell_type": "code",
   "execution_count": 36,
   "metadata": {},
   "outputs": [
    {
     "name": "stdout",
     "output_type": "stream",
     "text": [
      "{'Lion': 70, 'Elephant': 20, 'Giraffe': 30, 'Zebra': 40}\n",
      "{'Lion': 70, 'Elephant': 40, 'Giraffe': 30, 'Zebra': 40}\n",
      "{'Lion': 70, 'Elephant': 40, 'Giraffe': 30, 'Zebra': 40, 'Monkeys': 50}\n"
     ]
    }
   ],
   "source": [
    "species_populations = {'Lion': 50, 'Elephant': 20, 'Giraffe': 30, 'Zebra': 40}  # defining the species_population dictionary\n",
    "\n",
    "def add_population(name, population):   # defining add_population() function that takes name of species and its population as parameters.\n",
    "    \n",
    "    if name in species_populations:     # if name exist in species_population dictionary, the given population will be added to the existing value. else, create a new Pair.\n",
    "        species_populations[name] += population\n",
    "    else:\n",
    "        species_populations[name] = population\n",
    "\n",
    "    return print(species_populations)   # Printing the Dictionary.\n",
    "\n",
    "add_population('Lion', 20)  # adding Lion Population by 20\n",
    "add_population('Elephant', 20)  # adding Elephant Population by 20\n",
    "add_population('Monkeys', 50)   # adding Monkeys'Population Pair"
   ]
  },
  {
   "cell_type": "markdown",
   "metadata": {},
   "source": [
    "b) Write a function called sorted_species_list that returns a list of species names sorted in alphabetical order."
   ]
  },
  {
   "cell_type": "code",
   "execution_count": 37,
   "metadata": {},
   "outputs": [
    {
     "data": {
      "text/plain": [
       "['Elephant', 'Giraffe', 'Lion', 'Monkeys', 'Zebra']"
      ]
     },
     "execution_count": 37,
     "metadata": {},
     "output_type": "execute_result"
    }
   ],
   "source": [
    "def sorted_species_list(spec_dir):  # Defining a function that returns a list of species names sorted alphabetically.\n",
    "    return sorted([name for name in spec_dir])  # return the key (species names) of each pair using a comprehension.\n",
    "\n",
    "sorted_species_list(species_populations)"
   ]
  },
  {
   "cell_type": "markdown",
   "metadata": {},
   "source": [
    "C) Write a function called total_population that returns the total population of all species in the\n",
    "ecosystem."
   ]
  },
  {
   "cell_type": "code",
   "execution_count": 38,
   "metadata": {},
   "outputs": [
    {
     "data": {
      "text/plain": [
       "230"
      ]
     },
     "execution_count": 38,
     "metadata": {},
     "output_type": "execute_result"
    }
   ],
   "source": [
    "def total_population(spec_dir):     #defining a function that return the total of populations\n",
    "\n",
    "    total = 0     # set initial total = 0 \n",
    "\n",
    "    for i in spec_dir:      # for loop to add each population to the total.\n",
    "        total += spec_dir[i]\n",
    "\n",
    "    return total    # Returning the total.\n",
    "\n",
    "total_population(species_populations)"
   ]
  },
  {
   "cell_type": "markdown",
   "metadata": {},
   "source": [
    "### Exercise 2 - Filtering and Sorting"
   ]
  },
  {
   "cell_type": "markdown",
   "metadata": {},
   "source": [
    "Write Python code that filters a given list of strings to retain only those elements that contain 'CA'.\n",
    "Sort the resulting list by string length. Strings with equal length should be sorted by how often the\n",
    "letter 'A' occurs in them, so that the ones with the largest number of As come first. Test your code\n",
    "with the following two lists:\n",
    "L1 = ['UTACG', 'TUCAG', 'ACAG', 'GAA', 'CA', 'TUAGCAU', 'ACAAAAA']\n",
    "L2 = ['ACAGT', 'CAGAA', 'GACT', 'ACAGTAGA', 'AACGTAAAA']\n",
    "Hint: Consider using a lambda function."
   ]
  },
  {
   "cell_type": "code",
   "execution_count": 39,
   "metadata": {},
   "outputs": [
    {
     "name": "stdout",
     "output_type": "stream",
     "text": [
      "['TUCAG', 'ACAG', 'CA', 'ACAAAAA', 'TUAGCAU']\n",
      "['ACAGT', 'CAGAA', 'ACAGTAGA']\n"
     ]
    }
   ],
   "source": [
    "L1 = ['UTACG', 'TUCAG', 'ACAG', 'GAA', 'CA', 'ACAAAAA', 'TUAGCAU']\n",
    "L2 = ['ACAGT', 'CAGAA', 'GACT', 'ACAGTAGA', 'AACGTAAAA']\n",
    "\n",
    "def filter_list(listx , filtering_chars):       # defining a function that filters a list to retain those elements that contain specific filtering_chars.\n",
    "    new_list = [element for element in listx if filtering_chars in element]    # if filtering_chars in the element, add this element to the filtered_list\n",
    "    return new_list\n",
    "\n",
    "L1_filtered = filter_list(L1 , 'CA')\n",
    "L2_filtered = filter_list(L2 , 'CA')\n",
    "print(L1_filtered)     # Testing the function\n",
    "print(L2_filtered)"
   ]
  },
  {
   "cell_type": "code",
   "execution_count": 40,
   "metadata": {},
   "outputs": [
    {
     "name": "stdout",
     "output_type": "stream",
     "text": [
      "['CA', 'ACAG', 'TUCAG', 'ACAAAAA', 'TUAGCAU']\n",
      "['CAGAA', 'ACAGT', 'ACAGTAGA']\n"
     ]
    }
   ],
   "source": [
    "def sort_list(listx):   # defining a function that sort a list by 1) length of strings then by 2) count of 'A'\n",
    "    return sorted(listx, key= lambda s: (len(s), -s.count('A')))\n",
    "\n",
    "print(sort_list(L1_filtered))\n",
    "print(sort_list(L2_filtered))"
   ]
  },
  {
   "cell_type": "markdown",
   "metadata": {},
   "source": [
    "### Exercise 3 - Statistical Data Analysis"
   ]
  },
  {
   "cell_type": "markdown",
   "metadata": {},
   "source": [
    "a) Translate the table above into a Python object so that you can access the information in the form student[StudentID].attribute. For example, student[105].grade should yield 2.7."
   ]
  },
  {
   "cell_type": "code",
   "execution_count": 41,
   "metadata": {},
   "outputs": [
    {
     "name": "stdout",
     "output_type": "stream",
     "text": [
      "2.7\n"
     ]
    }
   ],
   "source": [
    "from collections import namedtuple\n",
    "\n",
    "# Create a namedtuple with the required fields names\n",
    "student_data = namedtuple('student_data', \"grade studyHrs timeSpentOnSocialMedia\" )\n",
    "\n",
    "# Create a students dictionary\n",
    "student = {\n",
    "#   ID  :        grade, studyHrs, timeSpentOnSocialMedia\n",
    "    105 : student_data(2.7, 2.5, 4.5),\n",
    "    114 : student_data(3.6, 1.0, 7.0),\n",
    "    117 : student_data(1.2, 5.0, 4.0),\n",
    "    121 : student_data(1.0, 7.0, 5.0),\n",
    "    135 : student_data(2.3, 3.5, 4.0),\n",
    "    148 : student_data(4.0, 0.5, 8.0),\n",
    "    155 : student_data(2.5, 3.0, 6.5)\n",
    "\n",
    "}\n",
    "\n",
    "print(student[105].grade) # yield 2.7"
   ]
  },
  {
   "cell_type": "markdown",
   "metadata": {},
   "source": [
    "b) Write a function to compute the mean of a list of data, and use it to compute the mean of each\n",
    "of the given columns."
   ]
  },
  {
   "cell_type": "code",
   "execution_count": 42,
   "metadata": {},
   "outputs": [],
   "source": [
    "# Define a function takes a dictionary and column as inputs and extract values of this column in a list\n",
    "def values_list(dict, column):\n",
    "    values_list = []\n",
    "    \n",
    "    for i in dict:\n",
    "        if column == 'grade':\n",
    "            values_list.append(student[i].grade)\n",
    "        elif column == 'studyHrs':\n",
    "            values_list.append(student[i].studyHrs)\n",
    "        else:\n",
    "            values_list.append(student[i].timeSpentOnSocialMedia)\n",
    "    \n",
    "    return values_list"
   ]
  },
  {
   "cell_type": "code",
   "execution_count": 43,
   "metadata": {},
   "outputs": [],
   "source": [
    "# defining a function that takes a list and return the column values mean.\n",
    "def mean_value(ls):\n",
    "    return sum(ls) / len(ls)"
   ]
  },
  {
   "cell_type": "code",
   "execution_count": 44,
   "metadata": {},
   "outputs": [
    {
     "name": "stdout",
     "output_type": "stream",
     "text": [
      "The mean of students grades is 2.47\n",
      "The mean of students studyHrs is 3.21\n",
      "The mean of students timeSpentOnSocialMedia is 5.57\n"
     ]
    }
   ],
   "source": [
    "# Calculating the mean of each column\n",
    " \n",
    "print(f\"The mean of students grades is {round(mean_value(values_list(student, 'grade')),2)}\")\n",
    "print(f\"The mean of students studyHrs is {round(mean_value(values_list(student, 'studyHrs')),2)}\")\n",
    "print(f\"The mean of students timeSpentOnSocialMedia is {round(mean_value(values_list(student, 'timeSpentOnSocialMedia')),2)}\")"
   ]
  },
  {
   "cell_type": "markdown",
   "metadata": {},
   "source": [
    "c) Write a function to compute the standard deviation using the mean function in part b)"
   ]
  },
  {
   "cell_type": "code",
   "execution_count": 45,
   "metadata": {},
   "outputs": [],
   "source": [
    "import math\n",
    "\n",
    "# Define a function that takes a list and calculate the standard deviation of the values within it\n",
    "def std_value(ls):\n",
    "\n",
    "    mean = mean_value(ls) # Calculate the mean of the list.\n",
    "\n",
    "    numerator = 0 # define the numerator variable.\n",
    "\n",
    "    for i in ls:\n",
    "\n",
    "        # Numerator = the sum of (x - mean) ** 2\n",
    "        numerator += (i - mean) ** 2\n",
    "\n",
    "    return math.sqrt( numerator / len(ls) )"
   ]
  },
  {
   "cell_type": "code",
   "execution_count": 46,
   "metadata": {},
   "outputs": [
    {
     "name": "stdout",
     "output_type": "stream",
     "text": [
      "The STD of students grades is 1.03\n",
      "The STD of students studyHrs is 2.08\n",
      "The STD of students timeSpentOnSocialMedia is 1.47\n"
     ]
    }
   ],
   "source": [
    "# Calculating the Standard Deviation of each Column.\n",
    "\n",
    "print(f\"The STD of students grades is {round(std_value(values_list(student, 'grade')),2)}\")\n",
    "print(f\"The STD of students studyHrs is {round(std_value(values_list(student, 'studyHrs')),2)}\")\n",
    "print(f\"The STD of students timeSpentOnSocialMedia is {round(std_value(values_list(student, 'timeSpentOnSocialMedia')),2)}\")"
   ]
  },
  {
   "cell_type": "markdown",
   "metadata": {},
   "source": [
    "d) Write a function to compute Pearson correlation between two input lists x and y using the following formula."
   ]
  },
  {
   "cell_type": "code",
   "execution_count": 47,
   "metadata": {},
   "outputs": [],
   "source": [
    "#defining a function that takes Lists of x and y and calculate the pearson correlation coefficient of them.\n",
    "def pearson_corr(X, Y):\n",
    "    \n",
    "    # calculate mean of x and y values\n",
    "    x_mean = mean_value(X)\n",
    "    y_mean = mean_value(Y)\n",
    "\n",
    "    # calculate STD of x and y values\n",
    "    x_std = std_value(X)\n",
    "    y_std = std_value(Y)\n",
    "\n",
    "    # Calculate the numerator = Sum of (x - x_mean)(y - y_mean)\n",
    "    numerator = 0\n",
    "    for i in range(len(X)):\n",
    "        numerator += (X[i] - x_mean) * (Y[i] - y_mean)\n",
    "\n",
    "    return numerator / (len(X) * x_std * y_std)"
   ]
  },
  {
   "cell_type": "markdown",
   "metadata": {},
   "source": [
    "Use your function to find the variable that correlates with the student grades the most."
   ]
  },
  {
   "cell_type": "code",
   "execution_count": 48,
   "metadata": {},
   "outputs": [
    {
     "name": "stdout",
     "output_type": "stream",
     "text": [
      "Pearson Correlation between grade and StudyHrs is -0.975\n",
      "Pearson Correlation between grade and timeSpentOnSocialMedia is 0.77\n",
      "StudyHrs Variable correlates with grade variable the most\n"
     ]
    }
   ],
   "source": [
    "# Calculating and printing the Pearson Correlation coefficient between grade and StudyHrs\n",
    "Pearson_grade_VS_studyHrs = pearson_corr(values_list(student, 'grade'), values_list(student, 'studyHrs'))\n",
    "print(f'Pearson Correlation between grade and StudyHrs is {round(Pearson_grade_VS_studyHrs, 3)}')\n",
    "\n",
    "# Calculating and printing the Pearson Correlation coefficient between grade and StudyHrs\n",
    "Pearson_grade_VS_SocialMedia = pearson_corr(values_list(student, 'grade'), values_list(student, 'timeSpentOnSocialMedia'))\n",
    "print(f'Pearson Correlation between grade and timeSpentOnSocialMedia is {round(Pearson_grade_VS_SocialMedia, 3)}')\n",
    "\n",
    "\n",
    "if abs(Pearson_grade_VS_studyHrs) > abs(Pearson_grade_VS_SocialMedia):\n",
    "    print('StudyHrs Variable correlates with grade variable the most')\n",
    "\n",
    "elif abs(Pearson_grade_VS_studyHrs) < abs(Pearson_grade_VS_SocialMedia):\n",
    "    print('timeSpentOnSocialMedia Variable correlates with grade variable the most')\n",
    "    \n",
    "else:\n",
    "    print('They are the same')"
   ]
  },
  {
   "cell_type": "markdown",
   "metadata": {},
   "source": [
    "e) Let SetA be the students mentioned in the table above. Consider another set of students represented by SetB, who use a particular study resource:\n",
    "SetB={103, 108, 114, 115, 121, 123, 148}\n",
    "\n",
    "List the student IDs of students who are part of both SetA and SetB. Also list the student IDs of students only in SetA."
   ]
  },
  {
   "cell_type": "code",
   "execution_count": 49,
   "metadata": {},
   "outputs": [
    {
     "name": "stdout",
     "output_type": "stream",
     "text": [
      "SetA = {135, 105, 114, 148, 117, 121, 155}\n",
      "SetB = {114, 115, 148, 103, 121, 123, 108}\n",
      "--------------------------------------------------\n",
      "IDs of students in Both Set A and B = {121, 114, 148}\n",
      "IDs of students in only in A = {105, 155, 117, 135}\n"
     ]
    }
   ],
   "source": [
    "SetB = {103, 108, 114, 115, 121, 123, 148}\n",
    "\n",
    "SetA = {i for i in student} # Get the IDs of students in SetA fromt student dictionary\n",
    "print(f\"SetA = {SetA}\")\n",
    "print(f\"SetB = {SetB}\")\n",
    "print(\"-\" * 50)\n",
    "\n",
    "SetA_only = {k for k in student if k not in SetB} # creating a Set with IDs of students who are in SetA but not in SetB\n",
    "\n",
    "IDs_both = {k for k in SetB if k in SetA and k in SetB} # Creating a Set of IDs of students who are in both SetB and SetA\n",
    "\n",
    "print(f\"IDs of students in Both Set A and B = {IDs_both}\")\n",
    "print(f\"IDs of students in only in A = {SetA_only}\")"
   ]
  },
  {
   "cell_type": "markdown",
   "metadata": {},
   "source": [
    "Use the two list of student IDs and calculate the mean of the column\n",
    "grade for these two groups."
   ]
  },
  {
   "cell_type": "code",
   "execution_count": 50,
   "metadata": {},
   "outputs": [
    {
     "name": "stdout",
     "output_type": "stream",
     "text": [
      "Grades of students who are in both sets are [3.6, 1.0, 4.0]. the mean is 2.87\n",
      "Grades of students who are in both sets are [2.7, 1.2, 2.3, 2.5]. the mean is 2.17\n"
     ]
    }
   ],
   "source": [
    "# Creating a list with grade values of students who are in both A and B Sets. \n",
    "grades_AB = [student[i].grade for i in student if i in IDs_both]\n",
    "\n",
    "# Using predefined mean_value() function, calculate the mean of the grades.\n",
    "print(f\"Grades of students who are in both sets are {grades_AB}. the mean is {round(mean_value(grades_AB), 2)}\")\n",
    "\n",
    "# Creating a list with grade values of students who are in Set A only. \n",
    "grades_A_only = [student[i].grade for i in student if i in SetA_only]\n",
    "\n",
    "# Using predefined mean_value() function, calculate the mean of the grades.\n",
    "print(f\"Grades of students who are in both sets are {grades_A_only}. the mean is {round(mean_value(grades_A_only), 2)}\")"
   ]
  }
 ],
 "metadata": {
  "kernelspec": {
   "display_name": "base",
   "language": "python",
   "name": "python3"
  },
  "language_info": {
   "codemirror_mode": {
    "name": "ipython",
    "version": 3
   },
   "file_extension": ".py",
   "mimetype": "text/x-python",
   "name": "python",
   "nbconvert_exporter": "python",
   "pygments_lexer": "ipython3",
   "version": "3.11.4"
  }
 },
 "nbformat": 4,
 "nbformat_minor": 2
}
