{
 "cells": [
  {
   "cell_type": "markdown",
   "metadata": {},
   "source": [
    "#### Ahmed Mohamed - Ahmed.h.h.Muhamed@gmail.com"
   ]
  },
  {
   "cell_type": "markdown",
   "metadata": {},
   "source": [
    "# Python Programming"
   ]
  },
  {
   "cell_type": "markdown",
   "metadata": {},
   "source": [
    "## Exercise 1 (Computing Disk Space Usage, 6 Points)"
   ]
  },
  {
   "cell_type": "markdown",
   "metadata": {},
   "source": [
    "write\n",
    "a function that reads two strings from the terminal:\n",
    "1. The name of a directory (folder) on your computer\n",
    "2. A file extension\n",
    "\n",
    "a) The overall size (in bytes) of files in the specified directory, including its complete directory tree\n",
    "(It must return one overall size which include all subdirectories and their subdirectories, etc.). Directory structure is the way an operating system arranges files that are accessible to the user. Files are typically displayed in a hierarchical tree structure. (2P)\n",
    "\n",
    "b) The overall size (in bytes) of those files (within the same tree) that end in the given file extension.\n",
    "(1P)\n",
    "\n",
    "c) The percentage of space that is taken up by files with the given extension. (1P)\n",
    "\n",
    "d) Take special care to make your code robust. In particular, when the user specifies a non-existing\n",
    "directory or some other error occurs while traversing it, do not print the above-mentioned information. Instead, output a clear error message that indicates what went wrong. Also take care to correctly deal with empty directories. Include several calls to your function that illustrate its correct behavior in the different cases. (2P)"
   ]
  },
  {
   "cell_type": "code",
   "execution_count": 1,
   "metadata": {},
   "outputs": [],
   "source": [
    "# Import libraries\n",
    "\n",
    "import os\n",
    "from os.path import getsize , join, exists\n"
   ]
  },
  {
   "cell_type": "code",
   "execution_count": 2,
   "metadata": {},
   "outputs": [],
   "source": [
    "# Define a function that gets the targeted directory data.\n",
    "def get_file_data():\n",
    "    global f_directory\n",
    "    f_directory = input('Enter The name of a directory (folder) on your computer: \\n').replace('\\\\','\\\\\\\\').replace('\"','')\n",
    "\n",
    "    global extension\n",
    "    extension = input('Enter The file extension: \\n')\n",
    "    \n",
    "    return None"
   ]
  },
  {
   "cell_type": "code",
   "execution_count": 3,
   "metadata": {},
   "outputs": [
    {
     "name": "stdout",
     "output_type": "stream",
     "text": [
      "Enter The name of a directory (folder) on your computer: \n",
      "\"C:\\Users\\Ahmed Hossam\\Documents\\Life Science Informatics Documents\\LSI Material\\Winter Semester 23-24\\CS for LSI Students\\Lectures\"\n",
      "Enter The file extension: \n",
      ".pdf\n"
     ]
    }
   ],
   "source": [
    "# Testing the function\n",
    "\n",
    "get_file_data()"
   ]
  },
  {
   "cell_type": "code",
   "execution_count": 4,
   "metadata": {},
   "outputs": [
    {
     "name": "stdout",
     "output_type": "stream",
     "text": [
      "C:\\\\Users\\\\Ahmed Hossam\\\\Documents\\\\Life Science Informatics Documents\\\\LSI Material\\\\Winter Semester 23-24\\\\CS for LSI Students\\\\Lectures\n"
     ]
    }
   ],
   "source": [
    "# Replace \\ with \\\\ in the directory path.\n",
    "\n",
    "print(f_directory)"
   ]
  },
  {
   "cell_type": "code",
   "execution_count": 5,
   "metadata": {},
   "outputs": [],
   "source": [
    "def get_file_size(f_directory, extension): # Define a function that gets the size of the targeted directory and its files.\n",
    "        \n",
    "    try:\n",
    "        assert exists(f_directory) # If the Path doesn't exists, raise an Error.\n",
    "        try:\n",
    "            # If the Extention value is None, Raise an Error.\n",
    "            assert extension != None\n",
    "            \n",
    "            # Initial variables for Overall Size and size of files with specific extension\n",
    "            total_size = 0\n",
    "            size_extension = 0\n",
    "            \n",
    "            # For loop to go through the Directory and calculate the sizes of files within each directory and subdirectory.\n",
    "            for d_path, d_names, filenames in os.walk(f_directory):\n",
    "                for f in filenames:\n",
    "                    total_size += getsize(join(d_path, f))\n",
    "\n",
    "                    if extension in f:\n",
    "                        size_extension += getsize(join(d_path, f))\n",
    "\n",
    "            return print(f\"Total size = {total_size} bytes and size of files with {extension} = {size_extension} bytes.\") # The % of Space taken by this file extension is {round(size_extension / total_size * 100, 2)}%\")\n",
    "        except:\n",
    "            raise ValueError(\"Extension variable doesn't have a value\")\n",
    "    except:\n",
    "        raise ValueError(\"Directory Path doesn't exist\")\n"
   ]
  },
  {
   "cell_type": "code",
   "execution_count": 6,
   "metadata": {},
   "outputs": [
    {
     "name": "stdout",
     "output_type": "stream",
     "text": [
      "Total size = 1668923 bytes and size of files with .pdf = 1666622 bytes.\n"
     ]
    }
   ],
   "source": [
    "# Expected Total Size = 1,668,923 bytes, and pdf files = 1,666,622 bytes\n",
    "\n",
    "get_file_size(f_directory, extension)"
   ]
  },
  {
   "cell_type": "markdown",
   "metadata": {},
   "source": [
    "## Exercise 2 (Atlas Dictionary, 10 Points)"
   ]
  },
  {
   "cell_type": "markdown",
   "metadata": {},
   "source": [
    "Write function AtlasDict(input) that takes atlas xml file path and returns the dictionary of in-\n",
    "dex to structural name. For example in \"Harvard-Oxford Cortical Structural Atlas\", the index of\n",
    "\"Postcentral Gyrus\" is 16."
   ]
  },
  {
   "cell_type": "code",
   "execution_count": 7,
   "metadata": {},
   "outputs": [],
   "source": [
    "\n",
    "def AtlasDict(xml_path):        # Defining the AtlasDict function that takes an xml path and return a dictionary of indexes and structural names\n",
    "\n",
    "    try:\n",
    "        assert exists(xml_path) # If path doesn't exists, Raise an Error.\n",
    "        import xml.etree.ElementTree as ET      # import the ElementTree Library\n",
    "\n",
    "        xml_string = ET.tostring(ET.parse(xml_path).getroot(), encoding='utf8', method='xml').decode()     # Convert the xml file to a string\n",
    "\n",
    "        xml_List_bisplitted = xml_string.split('\\n')        # Use '\\n' to return a list with separated lines.\n",
    "\n",
    "        xml_data_list = [el for el in xml_List_bisplitted if 'index' in el]         # create a list of only lines that have 'Index' and Structural Name.\n",
    "\n",
    "        xml_dict = {}       # create the empty xml dictionary.\n",
    "\n",
    "        for i in range(len(xml_data_list)):     # Use a for loop to assign each index and corresponding structural name as a key/value pair within the created dictionary using a certain indexing pattern.\n",
    "\n",
    "            index_key = int(xml_data_list[i][ xml_data_list[i].find('index=')+7 : xml_data_list[i].find('\" x=') ])\n",
    "        \n",
    "            structural_name = xml_data_list[i][ xml_data_list[i].find('>')+1 : xml_data_list[i].find('/')-1 ]\n",
    "        \n",
    "            xml_dict[index_key] = structural_name\n",
    "\n",
    "        return xml_dict\n",
    "    except:\n",
    "        raise ValueError(\"Xml file doesn't exist\")"
   ]
  },
  {
   "cell_type": "markdown",
   "metadata": {},
   "source": [
    "Defining a function that return the name and the short name of an XML file"
   ]
  },
  {
   "cell_type": "code",
   "execution_count": 8,
   "metadata": {},
   "outputs": [],
   "source": [
    "def get_Atlas_names(xml_path):\n",
    "\n",
    "    try:\n",
    "        assert exists(xml_path)   # If Xml Path doesn't exist, Raise an Error.\n",
    "        \n",
    "        import xml.etree.ElementTree as ET      # import the ElementTree Library\n",
    "\n",
    "        xml_string = ET.tostring(ET.parse(xml_path).getroot(), encoding='utf8', method='xml').decode()     # Convert the xml file to a string\n",
    "\n",
    "        xml_List_bisplitted = xml_string.split('\\n')        # Use '\\n' to return a list with separated lines.\n",
    "\n",
    "        xml_names = [el[el.find('>')+1 : el.find('</')] for el in xml_List_bisplitted if 'name' in el]\n",
    "\n",
    "        return xml_names\n",
    "    except:\n",
    "        raise ValueError(\"XML file doesn't exist\")\n"
   ]
  },
  {
   "cell_type": "markdown",
   "metadata": {},
   "source": [
    "Write function summarize(input; output) that takes atlas xml file path and output path and\n",
    "produces a new File that contains the name of atlas, the short name, structures name and corre-\n",
    "sponding index and the total number of structural region."
   ]
  },
  {
   "cell_type": "code",
   "execution_count": 9,
   "metadata": {},
   "outputs": [],
   "source": [
    "def summarize(xml_path, output_filename):        # Defining the AtlasDict function that takes an xml path and return a dictionary of indexes and structural names\n",
    "\n",
    "    try:\n",
    "        assert exists(xml_path)  # If XML Path doesn't exist, Raise an Error.\n",
    "        xml_names = get_Atlas_names(xml_path)  # Get Name and Short name of the Atlas.\n",
    "\n",
    "        xml_dict = AtlasDict(xml_path)  # Get a dictionary of indexes and Structural Names of the Atlas\n",
    "\n",
    "        with open(output_filename, 'a') as out:  # Create a file and append to it the name, short name, and the dictionary of the atlas.\n",
    "            out.write(f'Altas name: {xml_names[0]}\\n')\n",
    "            out.write(f'Altas short name: {xml_names[1]}\\n')\n",
    "\n",
    "            for i in xml_dict:\n",
    "                out.write(str(i) + \" : \" + xml_dict[i] + '\\n')\n",
    "\n",
    "            out.write(f'Number of structures in Atlas: {len(xml_dict)}.')\n",
    "\n",
    "\n",
    "        with open(output_filename, 'r') as file:\n",
    "            print(file.read())\n",
    "\n",
    "        return None\n",
    "    except:\n",
    "        raise ValueError(\"XML file doesn't exist\")"
   ]
  },
  {
   "cell_type": "markdown",
   "metadata": {},
   "source": [
    "Testing the summarize() function"
   ]
  },
  {
   "cell_type": "code",
   "execution_count": 10,
   "metadata": {},
   "outputs": [
    {
     "name": "stdout",
     "output_type": "stream",
     "text": [
      "Altas name: Harvard-Oxford Cortical Structural Atlas\n",
      "Altas short name: HOCPA\n",
      "0 : Frontal Pole\n",
      "1 : Insular Cortex\n",
      "2 : Superior Frontal Gyrus\n",
      "3 : Middle Frontal Gyrus\n",
      "4 : Inferior Frontal Gyrus, pars triangularis\n",
      "5 : Inferior Frontal Gyrus, pars opercularis\n",
      "6 : Precentral Gyrus\n",
      "7 : Temporal Pole\n",
      "8 : Superior Temporal Gyrus, anterior division\n",
      "9 : Superior Temporal Gyrus, posterior division\n",
      "10 : Middle Temporal Gyrus, anterior division\n",
      "11 : Middle Temporal Gyrus, posterior division\n",
      "12 : Middle Temporal Gyrus, temporooccipital part\n",
      "13 : Inferior Temporal Gyrus, anterior division\n",
      "14 : Inferior Temporal Gyrus, posterior division\n",
      "15 : Inferior Temporal Gyrus, temporooccipital part\n",
      "16 : Postcentral Gyrus\n",
      "17 : Superior Parietal Lobule\n",
      "18 : Supramarginal Gyrus, anterior division\n",
      "19 : Supramarginal Gyrus, posterior division\n",
      "20 : Angular Gyrus\n",
      "21 : Lateral Occipital Cortex, superior division\n",
      "22 : Lateral Occipital Cortex, inferior division\n",
      "23 : Intracalcarine Cortex\n",
      "24 : Frontal Medial Cortex\n",
      "25 : Juxtapositional Lobule Cortex (formerly Supplementary Motor Cortex)\n",
      "26 : Subcallosal Cortex\n",
      "27 : Paracingulate Gyrus\n",
      "28 : Cingulate Gyrus, anterior division\n",
      "29 : Cingulate Gyrus, posterior division\n",
      "30 : Precuneous Cortex\n",
      "31 : Cuneal Cortex\n",
      "32 : Frontal Orbital Cortex\n",
      "33 : Parahippocampal Gyrus, anterior division\n",
      "34 : Parahippocampal Gyrus, posterior division\n",
      "35 : Lingual Gyrus\n",
      "36 : Temporal Fusiform Cortex, anterior division\n",
      "37 : Temporal Fusiform Cortex, posterior division\n",
      "38 : Temporal Occipital Fusiform Cortex\n",
      "39 : Occipital Fusiform Gyrus\n",
      "40 : Frontal Operculum Cortex\n",
      "41 : Central Opercular Cortex\n",
      "42 : Parietal Operculum Cortex\n",
      "43 : Planum Polare\n",
      "44 : Heschl's Gyrus (includes H1 and H2)\n",
      "45 : Planum Temporale\n",
      "46 : Supracalcarine Cortex\n",
      "47 : Occipital Pole\n",
      "Number of structures in Atlas: 48.\n"
     ]
    }
   ],
   "source": [
    "summarize(r'C:\\Users\\Ahmed Hossam\\Documents\\Life Science Informatics Documents\\LSI Material\\Winter Semester 23-24\\CS for LSI Students\\Exercises\\Assignment 3\\HarvardOxford-Cortical.xml', 'Output1.txt')"
   ]
  },
  {
   "cell_type": "markdown",
   "metadata": {},
   "source": [
    "## Exercise 3 (Simulating Microbial Growth with Python Generators, 9 Points)"
   ]
  },
  {
   "cell_type": "markdown",
   "metadata": {},
   "source": [
    "Write a generator function, microbial_growth_simulation(N0, g), that takes the initial popu-\n",
    "lation size N0 and the generation time g as input. The generator should yield the population size\n",
    "at each time step (hour) starting from time t = 0 and incrementing by 1 hour at a time."
   ]
  },
  {
   "cell_type": "code",
   "execution_count": 11,
   "metadata": {},
   "outputs": [],
   "source": [
    "def microbial_growth_simulation(N0, g):  # Define a generator function that calculate the microbial population.\n",
    "    if N0 < 0 or g < 0:\n",
    "        error_neg = ValueError(\" Population & Growth Rate must be a positive number\")\n",
    "        raise error_neg\n",
    "    else:\n",
    "\n",
    "        N_t = 0\n",
    "        t = 0\n",
    "\n",
    "        while True:\n",
    "            N_t = N0 * (2 ** (t/g))\n",
    "            t += 1\n",
    "            yield N_t"
   ]
  },
  {
   "cell_type": "code",
   "execution_count": 12,
   "metadata": {},
   "outputs": [
    {
     "name": "stdout",
     "output_type": "stream",
     "text": [
      "Population after 0 hours is 10.0\n",
      "Population after 1 hours is 11.48698354997035\n",
      "Population after 2 hours is 13.195079107728942\n",
      "Population after 3 hours is 15.15716566510398\n",
      "Population after 4 hours is 17.411011265922482\n"
     ]
    }
   ],
   "source": [
    "population = microbial_growth_simulation(10, 5) # Test the function with Initial Population 10 , and Growth Rate 5\n",
    "\n",
    "for i in range(5):\n",
    "    print(f\"Population after {i} hours is {next(population)}\")"
   ]
  }
 ],
 "metadata": {
  "kernelspec": {
   "display_name": "Python 3 (ipykernel)",
   "language": "python",
   "name": "python3"
  },
  "language_info": {
   "codemirror_mode": {
    "name": "ipython",
    "version": 3
   },
   "file_extension": ".py",
   "mimetype": "text/x-python",
   "name": "python",
   "nbconvert_exporter": "python",
   "pygments_lexer": "ipython3",
   "version": "3.11.4"
  }
 },
 "nbformat": 4,
 "nbformat_minor": 2
}
