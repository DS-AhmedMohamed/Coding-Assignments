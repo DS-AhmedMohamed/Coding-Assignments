{
 "cells": [
  {
   "cell_type": "markdown",
   "metadata": {},
   "source": [
    "#### Ahmed Mohamed | Ahmed.H.H.Muhamed@gmail.com"
   ]
  },
  {
   "cell_type": "markdown",
   "metadata": {},
   "source": [
    "# Assignment 4"
   ]
  },
  {
   "cell_type": "markdown",
   "metadata": {},
   "source": [
    "## Exercise 1 (Connected Components, 8 Points)"
   ]
  },
  {
   "cell_type": "markdown",
   "metadata": {},
   "source": [
    "Define a function that takes the grid file path and return the grid as nested list of binary integers "
   ]
  },
  {
   "cell_type": "code",
   "execution_count": 1,
   "metadata": {},
   "outputs": [],
   "source": [
    "# Import Library\n",
    "import copy\n",
    "\n",
    "def get_grid(grid_path):\n",
    "    '''Define a function that take the grid file path and return the grid as a string'''\n",
    "\n",
    "    with open (grid_path, \"r\") as file: # Read the Binary grid file as a string\n",
    "        global grid\n",
    "        grid = file.read()\n",
    "\n",
    "        lines_splitted = grid.split('\\n') # split each line into a list\n",
    "\n",
    "        grid_list_string = [] # Create the nested list\n",
    "        for i in lines_splitted:\n",
    "            grid_list_string.append(i.split(' '))\n",
    "\n",
    "        grid_ints = [[int(i) for i in grid_list_string[r]] for r in range(len(grid_list_string))]\n",
    "\n",
    "\n",
    "    return grid_ints"
   ]
  },
  {
   "cell_type": "markdown",
   "metadata": {},
   "source": [
    "Create a function that takes the binary grid on the left as input, finds the set of connected components,\n",
    "and outputs the grid on the right where every cell has a number indicating the label it belongs to."
   ]
  },
  {
   "cell_type": "code",
   "execution_count": 2,
   "metadata": {},
   "outputs": [],
   "source": [
    "def connected_points(grid_ints):\n",
    "\n",
    "    # Define the Connected Points Function\n",
    "\n",
    "    conflect_point = [] # This List will store the conflict points between the cells.\n",
    "    color_ind = 1   # colores are represented by color indication. the Initial Color indicator is 1\n",
    "\n",
    "    for r in range(len(grid_ints)):\n",
    "        \n",
    "        ''' This For loop will be used to loop over each element in the grid integers\n",
    "        and assign the color label according to the algorithm explained below'''\n",
    "        \n",
    "        for c in range(len(grid_ints[r])):\n",
    "            \n",
    "            ''' The Algorithm: explained at each step'''\n",
    "\n",
    "            if r == 0 and c == 0:\n",
    "                # the first element will be labeled by the initial color indicator.\n",
    "                var1 = copy.copy(color_ind)\n",
    "                grid_ints[r][c] = copy.copy(var1)\n",
    "                color_ind += 1\n",
    "\n",
    "            elif r == 0 and c != 0: # separated algorithm for the 1st row as there is no above elements\n",
    "\n",
    "                if grid_ints[r][c] == 1 and grid_ints[r][c-1] != 0:\n",
    "                    '''if the element is connected on the row scale (the previous element not equal 0),\n",
    "                            label it with the same color indicator as the previous element.'''\n",
    "                    var1 = copy.copy(grid_ints[r][c-1])\n",
    "                    grid_ints[r][c] = copy.copy(var1)\n",
    "\n",
    "                elif grid_ints[r][c] == 1 and grid_ints[r][c-1] == 0:\n",
    "                    '''if element is not connected, label it with a new indicator (incremented by 1)'''\n",
    "                    var1 = copy.copy(color_ind)\n",
    "                    grid_ints[r][c] = copy.copy(var1)\n",
    "                    color_ind += 1\n",
    "\n",
    "                elif grid_ints[r][c] == 0:\n",
    "                    '''if element = zero, pass.'''\n",
    "                    pass\n",
    "\n",
    "            elif r != 0 and c == 0: # Separated Algorithm for 1st column as there are No previous elements.\n",
    "                \n",
    "                if grid_ints[r][c] == 1 and grid_ints[r-1][c] == 0:\n",
    "                    '''if element is not connected, label it with a new indicator (incremented by 1)'''\n",
    "                    var1 = copy.copy(color_ind)\n",
    "                    grid_ints[r][c] = copy.copy(var1)\n",
    "                    color_ind += 1\n",
    "\n",
    "                elif grid_ints[r][c] == 1 and grid_ints[r-1][c] != 0:\n",
    "                    '''if the element is connected on the column scale (the element above not equal 0),\n",
    "                            Label it with the same color indicator as the element above.'''\n",
    "                    var1 = copy.copy(grid_ints[r-1][c])\n",
    "                    grid_ints[r][c] = copy.copy(var1)\n",
    "\n",
    "                else:\n",
    "                    pass\n",
    "            else: # seperated algorithm for the rest of elements - rows > 0 and columns > 0.\n",
    "\n",
    "                if grid_ints[r][c] == 1 and grid_ints[r][c-1] != 0 and grid_ints[r-1][c] == 0:\n",
    "                    '''if the element is connected on the row scale (the previous element not equal 0),\n",
    "                            label it with the same color indicator as the previous element.'''\n",
    "                    var1 = copy.copy(grid_ints[r][c-1])\n",
    "                    grid_ints[r][c] = copy.copy(var1)\n",
    "\n",
    "                elif grid_ints[r][c] == 1 and grid_ints[r-1][c] != 0 and grid_ints[r][c-1] == 0:\n",
    "                    '''if the element is connected on the column scale (the element above not equal 0),\n",
    "                            Label it with the same color indicator as the element above.'''\n",
    "                    var1 = copy.copy(grid_ints[r-1][c])\n",
    "                    grid_ints[r][c] = copy.copy(var1)\n",
    "\n",
    "                elif grid_ints[r][c] == 1 and grid_ints[r-1][c] != 0 and grid_ints[r][c-1] != 0:\n",
    "                    '''if the element is connected on both row and column scales,\n",
    "                            Label it with the same color indicator as the previous element(on the row scale)'''\n",
    "                    var1 = copy.copy(grid_ints[r][c-1])\n",
    "                    grid_ints[r][c] = copy.copy(var1)\n",
    "\n",
    "                    '''add a conflect point to remember that the color indicators on the row and column scales\n",
    "                            should be adjusted to one color indicator as the elements are connected.'''\n",
    "                    if grid_ints[r][c] != grid_ints[r-1][c]: \n",
    "                        conflect_point.append([grid_ints[r][c],grid_ints[r-1][c]])\n",
    "\n",
    "                elif grid_ints[r][c] == 1 and grid_ints[r-1][c] == 0 and grid_ints[r][c-1] == 0:\n",
    "                    '''if element is not connected, label it with a new indicator (incremented by 1)'''\n",
    "                    var1 = copy.copy(color_ind)\n",
    "                    grid_ints[r][c] = copy.copy(var1)\n",
    "                    color_ind += 1\n",
    "\n",
    "                elif grid_ints[r][c] == 0:\n",
    "                    '''if element = zero, pass.'''\n",
    "                    pass\n",
    "\n",
    "    ''' Use For Loop to label the conflict points with the same color indicator'''\n",
    "    for cp in conflect_point:\n",
    "        # Loop on each conflict point\n",
    "        for r in range(len(grid_ints)):\n",
    "            for c in range(len(grid_ints)):\n",
    "                # Nested loop to loop through each element and label it with the same color indicator if its value is one of the values of the cp.\n",
    "                if grid_ints[r][c] == copy.copy(cp[1]):\n",
    "                    grid_ints[r][c] = copy.copy(cp[0])\n",
    "\n",
    "    '''Convert grid list to grid string like the binary grid string.'''\n",
    "    grid_out=[]\n",
    "\n",
    "    for i in grid_ints:\n",
    "        grid_out.append(''.join(str(i)).replace(',','').replace('[','').replace(']','') + '\\n')\n",
    "\n",
    "    grid_out_string = ''.join(grid_out)\n",
    "    \n",
    "    return grid_out_string"
   ]
  },
  {
   "cell_type": "markdown",
   "metadata": {},
   "source": [
    "Testing the Function"
   ]
  },
  {
   "cell_type": "code",
   "execution_count": 3,
   "metadata": {},
   "outputs": [
    {
     "name": "stdout",
     "output_type": "stream",
     "text": [
      "The Binary Grid: \n",
      "\n",
      "1 1 0 1 1 1 0 1\n",
      "1 1 0 1 0 1 0 1\n",
      "1 1 1 1 0 0 0 1\n",
      "0 0 0 0 0 0 0 1\n",
      "1 1 1 1 0 1 0 1\n",
      "0 0 0 1 0 1 0 1\n",
      "1 1 1 1 0 0 0 1\n",
      "1 1 1 1 0 1 1 1\n",
      "--------------------------------------------------\n",
      "The colored Grid: \n",
      "\n",
      "1 1 0 1 1 1 0 7\n",
      "1 1 0 1 0 1 0 7\n",
      "1 1 1 1 0 0 0 7\n",
      "0 0 0 0 0 0 0 7\n",
      "6 6 6 6 0 5 0 7\n",
      "0 0 0 6 0 5 0 7\n",
      "6 6 6 6 0 0 0 7\n",
      "6 6 6 6 0 7 7 7\n",
      "\n"
     ]
    }
   ],
   "source": [
    "grid_path = r'C:\\Users\\Ahmed Hossam\\Documents\\Life Science Informatics Documents\\LSI Material\\Winter Semester 23-24\\CS for LSI Students\\Exercises\\Assignment 4\\binary-grid.txt'\n",
    "grid_integers = get_grid(grid_path)\n",
    "\n",
    "print('The Binary Grid: \\n')\n",
    "print(grid)\n",
    "print('-' * 50)\n",
    "print('The colored Grid: \\n')\n",
    "print(connected_points(grid_integers))"
   ]
  },
  {
   "cell_type": "markdown",
   "metadata": {},
   "source": [
    "## Exercise 2 (Time complexity of linear vs. binary search, 8 Points)"
   ]
  },
  {
   "cell_type": "markdown",
   "metadata": {},
   "source": [
    "Defining Binary Search function"
   ]
  },
  {
   "cell_type": "code",
   "execution_count": 4,
   "metadata": {},
   "outputs": [],
   "source": [
    "def binary_search(sortedlist, value):\n",
    "    ''' Define a function that takes a sorted list and a value and search for this value in the list using binary search'''\n",
    "    \n",
    "    interval_start_ind = 0      # Initial starting index\n",
    "    interval_end_ind = len(sortedlist)      # initial ending index\n",
    "    \n",
    "    found_flag = False      # existing state flag\n",
    "\n",
    "    while found_flag == False:\n",
    "\n",
    "        ''' While the item is not found, search for it within the new indexes range'''\n",
    "\n",
    "        search_index = int(round((interval_end_ind + interval_start_ind) / 2, 0))       # New Search_index = the average of the new start and end indexes\n",
    "\n",
    "        if len(sortedlist[interval_start_ind:interval_end_ind]) > 1:    # if there are more than one item in the range . . .\n",
    "            \n",
    "            if sortedlist[search_index] == value:   # if the item is found, break the loop and label the flag True.\n",
    "                found_flag = True\n",
    "            elif sortedlist[search_index] > value:  # if not found and the item of the searching index is bigger than the value, label the new ending index to this item's index.\n",
    "                interval_end_ind = search_index\n",
    "            else:\n",
    "                interval_start_ind = search_index   # if not found and the item of the searching index is smaller than the value, label the new starting index to this item's index.\n",
    "        \n",
    "        elif len(sortedlist[interval_start_ind:interval_end_ind]) == 1:     # if there is only one item in the range, check if this item is the one we are searching for\n",
    "            if sortedlist[search_index] == value:\n",
    "                found_flag = True\n",
    "            else:   # the last item is not the one we are searching for, break the loop as the item doesn't exists.\n",
    "                break\n",
    "        else:   # Definsive programming\n",
    "            break\n",
    "\n",
    "    # return the state, True or False.        \n",
    "    return found_flag "
   ]
  },
  {
   "cell_type": "markdown",
   "metadata": {},
   "source": [
    "Generate lists of random integers with varying lengths (e.g., 100, 1000, 10000, 100000 elements).\n",
    "Measure the time it takes to sort these lists using the sorted() function and the time it takes to search for an item using In operator and Binary Search, then Plot the execution times against the length of the lists."
   ]
  },
  {
   "cell_type": "code",
   "execution_count": 5,
   "metadata": {},
   "outputs": [
    {
     "name": "stdout",
     "output_type": "stream",
     "text": [
      "{1000: 1.5382766723632812, 10000: 0.9992122650146484, 100000: 15.024185180664062, 1000000: 197.61896133422852, 10000000: 2969.712257385254}\n",
      "{1000: 0.0, 10000: 0.9963512420654297, 100000: 2.991914749145508, 1000000: 20.016193389892578, 10000000: 550.1842498779297}\n",
      "{1000: 0.0, 10000: 0.0, 100000: 0.9973049163818359, 1000000: 49.57127571105957, 10000000: 803.3490180969238}\n"
     ]
    }
   ],
   "source": [
    "from random import randint\n",
    "from time import time\n",
    "\n",
    "import matplotlib.pylab as plt\n",
    "\n",
    "\n",
    "Ex_sorting_TT_dict = {}     # define a dictionary to store the execution time of sorting elements of different lists\n",
    "Ex_in_searching_TT_dict = {}   # define a dictionary to store the execution time of searching for an element within different lists\n",
    "Ex_binary_search_searching_TT_dict = {}   # define a dictionary to store the execution time of searching for an element within different lists\n",
    "\n",
    "elements_no = 1000\n",
    "\n",
    "for i in range(5):\n",
    "    # Generate the list\n",
    "    list_unsorted = []\n",
    "    for el in range(elements_no):\n",
    "        rand_no = randint(1,elements_no)\n",
    "        list_unsorted.append(rand_no)\n",
    "    \n",
    "    # Calculate the excution time of sorting\n",
    "    start_time1 = time()\n",
    "    list_sorted = sorted(list_unsorted)\n",
    "    end_time1 = time()\n",
    "    \n",
    "    time_diff1 = (end_time1 - start_time1) * 1000\n",
    "\n",
    "    # excution time to search for a random integer in the list (Using In Operator)\n",
    "    found_bool = False\n",
    "    rand_no2 = randint(1,elements_no)\n",
    "    start_time2 = time()\n",
    "    if rand_no2 in list_sorted:\n",
    "        found_bool = True\n",
    "    end_time2 = time()\n",
    "\n",
    "    time_diff2 = (end_time2 - start_time2) * 1000\n",
    "\n",
    "    # excution time to search for a random integer in the list (Using Binary Search)\n",
    "    start_time3 = time()\n",
    "    found_bool = binary_search(list_sorted, rand_no2)\n",
    "    end_time3 = time()\n",
    "\n",
    "    time_diff3 = (end_time3 - start_time3) * 1000\n",
    "\n",
    "    # Store the data in a dictionary ( Key = Number of Elements , Value = Excution Time)\n",
    "    Ex_sorting_TT_dict[elements_no] = time_diff1\n",
    "    Ex_in_searching_TT_dict[elements_no] = time_diff2\n",
    "    Ex_binary_search_searching_TT_dict[elements_no] = time_diff3\n",
    "\n",
    "\n",
    "    # Change number of elements\n",
    "    elements_no = elements_no * 10\n",
    "\n",
    "\n",
    "print(Ex_sorting_TT_dict)\n",
    "print(Ex_in_searching_TT_dict)\n",
    "print(Ex_binary_search_searching_TT_dict)"
   ]
  },
  {
   "cell_type": "markdown",
   "metadata": {},
   "source": [
    "Define a function for plotting"
   ]
  },
  {
   "cell_type": "code",
   "execution_count": 6,
   "metadata": {},
   "outputs": [],
   "source": [
    "def plot_xy(dict, title):\n",
    "    # Plotting Results of a dictionary and name the chart according to title parameter.\n",
    "\n",
    "    x_axis = []\n",
    "    y_axis = []\n",
    "\n",
    "    for x,y in dict.items():\n",
    "        x_axis.append(x)\n",
    "        y_axis.append(y)\n",
    "\n",
    "    plt.title(f'Excution time to {title} integeres in a list')\n",
    "    plt.scatter(x_axis,y_axis)\n",
    "    plt.xlabel('Number of elements', loc= 'center')\n",
    "    plt.ylabel('Excution time in miliseconds', loc= 'center')\n",
    "    plt.show()"
   ]
  },
  {
   "cell_type": "code",
   "execution_count": 7,
   "metadata": {},
   "outputs": [
    {
     "data": {
      "image/png": "[encoded data removed]",
      "text/plain": [
       "<Figure size 640x480 with 1 Axes>"
      ]
     },
     "metadata": {},
     "output_type": "display_data"
    }
   ],
   "source": [
    "plot_xy(Ex_sorting_TT_dict, 'Sorting')"
   ]
  },
  {
   "cell_type": "code",
   "execution_count": 8,
   "metadata": {},
   "outputs": [
    {
     "data": {
      "image/png": "[encoded data removed]",
      "text/plain": [
       "<Figure size 640x480 with 1 Axes>"
      ]
     },
     "metadata": {},
     "output_type": "display_data"
    }
   ],
   "source": [
    "plot_xy(Ex_in_searching_TT_dict, 'Searching using In Operator')"
   ]
  },
  {
   "cell_type": "code",
   "execution_count": 9,
   "metadata": {},
   "outputs": [
    {
     "data": {
      "image/png": "[encoded data removed]",
      "text/plain": [
       "<Figure size 640x480 with 1 Axes>"
      ]
     },
     "metadata": {},
     "output_type": "display_data"
    }
   ],
   "source": [
    "plot_xy(Ex_binary_search_searching_TT_dict, 'Searching using Binary Search')"
   ]
  },
  {
   "cell_type": "markdown",
   "metadata": {},
   "source": [
    "## Exercise 3 (Naive Bayes Classifier, 9 Points)"
   ]
  },
  {
   "cell_type": "markdown",
   "metadata": {},
   "source": [
    "TheFile iris_train.csv contains the four attributes and the class of 80 samples. Load the file's\n",
    "content and process it into a suitable Python object."
   ]
  },
  {
   "cell_type": "code",
   "execution_count": 10,
   "metadata": {},
   "outputs": [],
   "source": [
    "def NB_GetData(f_path):\n",
    "    with open (f_path, 'r') as file:\n",
    "        Set_str = file.read()\n",
    "        set_lineslist = Set_str.split('\\n')\n",
    "\n",
    "    train_set = [i.split(',') for i in set_lineslist]\n",
    "\n",
    "    return Set_str, train_set"
   ]
  },
  {
   "cell_type": "code",
   "execution_count": 11,
   "metadata": {},
   "outputs": [
    {
     "name": "stdout",
     "output_type": "stream",
     "text": [
      "6,2,5,2,Iris-virginica\n",
      "6,3,6,2,Iris-virginica\n",
      "6,3,4,1,Iris-versicolor\n",
      "7,2,6,2,Iris-virginica\n",
      "6,2,4,2,Iris-versicolor\n",
      "6,3,4,1,Iris-versicolor\n",
      "6,3,4,1,Iris-versicolor\n",
      "7,3,6,2,Iris-virginica\n",
      "6,3,4,1,Iris-versicolor\n",
      "6,3,5,2,Iris-virginica\n",
      "8,3,7,2,Iris-virginica\n",
      "6,3,4,1,Iris-versicolor\n",
      "6,3,4,2,Iris-versicolor\n",
      "6,2,5,2,Iris-virginica\n",
      "7,3,5,1,Iris-versicolor\n",
      "6,3,4,1,Iris-versicolor\n",
      "6,3,4,1,Iris-versicolor\n",
      "6,3,4,1,Iris-versicolor\n",
      "6,2,5,2,Iris-virginica\n",
      "6,3,5,2,Iris-virginica\n",
      "5,3,4,1,Iris-versicolor\n",
      "6,2,5,2,Iris-versicolor\n",
      "7,3,6,2,Iris-virginica\n",
      "6,3,5,1,Iris-versicolor\n",
      "7,3,6,2,Iris-virginica\n",
      "6,3,5,2,Iris-virginica\n",
      "7,3,6,2,Iris-virginica\n",
      "6,3,4,2,Iris-versicolor\n",
      "7,3,5,2,Iris-virginica\n",
      "6,3,5,2,Iris-virginica\n",
      "8,4,6,2,Iris-virginica\n",
      "5,2,4,1,Iris-versicolor\n",
      "6,3,6,2,Iris-virginica\n",
      "6,3,4,2,Iris-versicolor\n",
      "7,3,4,1,Iris-versicolor\n",
      "6,3,4,1,Iris-versicolor\n",
      "6,3,4,1,Iris-versicolor\n",
      "6,3,5,1,Iris-versicolor\n",
      "6,3,4,1,Iris-versicolor\n",
      "6,2,4,1,Iris-versicolor\n",
      "6,3,5,2,Iris-virginica\n",
      "7,3,4,1,Iris-versicolor\n",
      "7,3,6,2,Iris-virginica\n",
      "7,3,5,2,Iris-versicolor\n",
      "8,3,7,2,Iris-virginica\n",
      "7,3,6,2,Iris-virginica\n",
      "6,2,4,1,Iris-versicolor\n",
      "6,3,4,2,Iris-versicolor\n",
      "7,3,5,1,Iris-versicolor\n",
      "7,3,5,2,Iris-versicolor\n",
      "6,3,4,1,Iris-versicolor\n",
      "6,3,5,2,Iris-virginica\n",
      "7,3,6,2,Iris-virginica\n",
      "6,3,4,1,Iris-versicolor\n",
      "6,2,4,1,Iris-versicolor\n",
      "6,2,4,1,Iris-versicolor\n",
      "6,2,4,1,Iris-versicolor\n",
      "6,3,6,2,Iris-virginica\n",
      "8,3,6,2,Iris-virginica\n",
      "7,3,6,2,Iris-virginica\n",
      "6,3,5,2,Iris-virginica\n",
      "6,3,6,2,Iris-virginica\n",
      "6,3,5,2,Iris-versicolor\n",
      "6,3,4,2,Iris-versicolor\n",
      "6,3,5,2,Iris-versicolor\n",
      "7,4,6,2,Iris-virginica\n",
      "5,3,4,2,Iris-versicolor\n",
      "5,2,3,1,Iris-versicolor\n",
      "6,3,5,2,Iris-versicolor\n",
      "6,3,4,1,Iris-versicolor\n",
      "6,3,5,2,Iris-virginica\n",
      "7,3,5,1,Iris-versicolor\n",
      "6,2,4,1,Iris-versicolor\n",
      "6,3,5,2,Iris-virginica\n",
      "6,3,5,2,Iris-virginica\n",
      "6,3,5,1,Iris-versicolor\n",
      "7,3,5,2,Iris-versicolor\n",
      "5,2,4,2,Iris-virginica\n",
      "6,3,5,2,Iris-versicolor\n",
      "7,3,6,2,Iris-virginica\n",
      "[['6', '2', '5', '2', 'Iris-virginica'], ['6', '3', '6', '2', 'Iris-virginica'], ['6', '3', '4', '1', 'Iris-versicolor'], ['7', '2', '6', '2', 'Iris-virginica'], ['6', '2', '4', '2', 'Iris-versicolor'], ['6', '3', '4', '1', 'Iris-versicolor'], ['6', '3', '4', '1', 'Iris-versicolor'], ['7', '3', '6', '2', 'Iris-virginica'], ['6', '3', '4', '1', 'Iris-versicolor'], ['6', '3', '5', '2', 'Iris-virginica'], ['8', '3', '7', '2', 'Iris-virginica'], ['6', '3', '4', '1', 'Iris-versicolor'], ['6', '3', '4', '2', 'Iris-versicolor'], ['6', '2', '5', '2', 'Iris-virginica'], ['7', '3', '5', '1', 'Iris-versicolor'], ['6', '3', '4', '1', 'Iris-versicolor'], ['6', '3', '4', '1', 'Iris-versicolor'], ['6', '3', '4', '1', 'Iris-versicolor'], ['6', '2', '5', '2', 'Iris-virginica'], ['6', '3', '5', '2', 'Iris-virginica'], ['5', '3', '4', '1', 'Iris-versicolor'], ['6', '2', '5', '2', 'Iris-versicolor'], ['7', '3', '6', '2', 'Iris-virginica'], ['6', '3', '5', '1', 'Iris-versicolor'], ['7', '3', '6', '2', 'Iris-virginica'], ['6', '3', '5', '2', 'Iris-virginica'], ['7', '3', '6', '2', 'Iris-virginica'], ['6', '3', '4', '2', 'Iris-versicolor'], ['7', '3', '5', '2', 'Iris-virginica'], ['6', '3', '5', '2', 'Iris-virginica'], ['8', '4', '6', '2', 'Iris-virginica'], ['5', '2', '4', '1', 'Iris-versicolor'], ['6', '3', '6', '2', 'Iris-virginica'], ['6', '3', '4', '2', 'Iris-versicolor'], ['7', '3', '4', '1', 'Iris-versicolor'], ['6', '3', '4', '1', 'Iris-versicolor'], ['6', '3', '4', '1', 'Iris-versicolor'], ['6', '3', '5', '1', 'Iris-versicolor'], ['6', '3', '4', '1', 'Iris-versicolor'], ['6', '2', '4', '1', 'Iris-versicolor'], ['6', '3', '5', '2', 'Iris-virginica'], ['7', '3', '4', '1', 'Iris-versicolor'], ['7', '3', '6', '2', 'Iris-virginica'], ['7', '3', '5', '2', 'Iris-versicolor'], ['8', '3', '7', '2', 'Iris-virginica'], ['7', '3', '6', '2', 'Iris-virginica'], ['6', '2', '4', '1', 'Iris-versicolor'], ['6', '3', '4', '2', 'Iris-versicolor'], ['7', '3', '5', '1', 'Iris-versicolor'], ['7', '3', '5', '2', 'Iris-versicolor'], ['6', '3', '4', '1', 'Iris-versicolor'], ['6', '3', '5', '2', 'Iris-virginica'], ['7', '3', '6', '2', 'Iris-virginica'], ['6', '3', '4', '1', 'Iris-versicolor'], ['6', '2', '4', '1', 'Iris-versicolor'], ['6', '2', '4', '1', 'Iris-versicolor'], ['6', '2', '4', '1', 'Iris-versicolor'], ['6', '3', '6', '2', 'Iris-virginica'], ['8', '3', '6', '2', 'Iris-virginica'], ['7', '3', '6', '2', 'Iris-virginica'], ['6', '3', '5', '2', 'Iris-virginica'], ['6', '3', '6', '2', 'Iris-virginica'], ['6', '3', '5', '2', 'Iris-versicolor'], ['6', '3', '4', '2', 'Iris-versicolor'], ['6', '3', '5', '2', 'Iris-versicolor'], ['7', '4', '6', '2', 'Iris-virginica'], ['5', '3', '4', '2', 'Iris-versicolor'], ['5', '2', '3', '1', 'Iris-versicolor'], ['6', '3', '5', '2', 'Iris-versicolor'], ['6', '3', '4', '1', 'Iris-versicolor'], ['6', '3', '5', '2', 'Iris-virginica'], ['7', '3', '5', '1', 'Iris-versicolor'], ['6', '2', '4', '1', 'Iris-versicolor'], ['6', '3', '5', '2', 'Iris-virginica'], ['6', '3', '5', '2', 'Iris-virginica'], ['6', '3', '5', '1', 'Iris-versicolor'], ['7', '3', '5', '2', 'Iris-versicolor'], ['5', '2', '4', '2', 'Iris-virginica'], ['6', '3', '5', '2', 'Iris-versicolor'], ['7', '3', '6', '2', 'Iris-virginica']]\n"
     ]
    }
   ],
   "source": [
    "Training_path = r'C:\\Users\\Ahmed Hossam\\Documents\\Life Science Informatics Documents\\LSI Material\\Winter Semester 23-24\\CS for LSI Students\\Exercises\\Assignment 4\\iris_train.csv'\n",
    "\n",
    "TrainSet_str, train_set = NB_GetData(Training_path)\n",
    "\n",
    "print(TrainSet_str)\n",
    "print(train_set)"
   ]
  },
  {
   "cell_type": "markdown",
   "metadata": {},
   "source": [
    "Compute the probabilities P(y) of the class Iris-virginica and that of the class Iris-versicolor\n",
    "as the relative frequencies with which each class occurs in the training data."
   ]
  },
  {
   "cell_type": "code",
   "execution_count": 12,
   "metadata": {},
   "outputs": [
    {
     "name": "stdout",
     "output_type": "stream",
     "text": [
      "Probability of Iris-virginica class is 0.425\n",
      "Probability of Iris-versicolor class is 0.575\n"
     ]
    }
   ],
   "source": [
    "T_data_volume = len(train_set)\n",
    "Iris_virginica_freq = TrainSet_str.count('Iris-virginica')\n",
    "Iris_versicolor_freq = TrainSet_str.count('Iris-versicolor')\n",
    "\n",
    "Prob_Iris_virginica = Iris_virginica_freq / T_data_volume\n",
    "\n",
    "Prob_Iris_versicolor = Iris_versicolor_freq / T_data_volume\n",
    "\n",
    "print(f'Probability of Iris-virginica class is {round(Prob_Iris_virginica,3)}')\n",
    "print(f'Probability of Iris-versicolor class is {round(Prob_Iris_versicolor,3)}')"
   ]
  },
  {
   "cell_type": "markdown",
   "metadata": {},
   "source": [
    "For each class, compute the probability distribution P(xi j y) of each attribute given that class."
   ]
  },
  {
   "cell_type": "code",
   "execution_count": 13,
   "metadata": {},
   "outputs": [],
   "source": [
    "def prob_dist(dataset, attribute_index, class_name):\n",
    "\n",
    "    '''Define a function that takes a dataset, attribute column index, and class name\n",
    "    as parameters and return the probability distribution of this attribute given this class'''\n",
    "\n",
    "    x_values_InClass = [r[attribute_index] for r in dataset if class_name in r]\n",
    "    all_x_values = [r[attribute_index] for r in dataset]\n",
    "\n",
    "    x_DistinctValues = set(all_x_values)\n",
    "\n",
    "    Prob_dist_dict_x = {}\n",
    "\n",
    "    for v in x_DistinctValues:\n",
    "        Prob_dist_dict_x[v] = (x_values_InClass.count(v) + 1) / (len(x_values_InClass) + len(x_DistinctValues))\n",
    "\n",
    "    return Prob_dist_dict_x"
   ]
  },
  {
   "cell_type": "code",
   "execution_count": 14,
   "metadata": {},
   "outputs": [
    {
     "name": "stdout",
     "output_type": "stream",
     "text": [
      "Iris-virginica x1 : {'8': 0.13157894736842105, '6': 0.47368421052631576, '7': 0.34210526315789475, '5': 0.05263157894736842}\n",
      "Iris-virginica x2 : {'3': 0.7567567567567568, '4': 0.08108108108108109, '2': 0.16216216216216217}\n",
      "Iris-virginica x3 : {'4': 0.05128205128205128, '5': 0.38461538461538464, '7': 0.07692307692307693, '3': 0.02564102564102564, '6': 0.46153846153846156}\n",
      "Iris-virginica x4 : {'1': 0.027777777777777776, '2': 0.9722222222222222}\n"
     ]
    }
   ],
   "source": [
    "# Calculate Probability Distribution of attributes given class 'Iris-virginica'\n",
    "\n",
    "ProbDist_x1_Iris_virginica = prob_dist(train_set, 0, 'Iris-virginica')\n",
    "ProbDist_x2_Iris_virginica = prob_dist(train_set, 1, 'Iris-virginica')\n",
    "ProbDist_x3_Iris_virginica = prob_dist(train_set, 2, 'Iris-virginica')\n",
    "ProbDist_x4_Iris_virginica = prob_dist(train_set, 3, 'Iris-virginica')\n",
    "\n",
    "print(f'Iris-virginica x1 : {ProbDist_x1_Iris_virginica}')\n",
    "print(f'Iris-virginica x2 : {ProbDist_x2_Iris_virginica}')\n",
    "print(f'Iris-virginica x3 : {ProbDist_x3_Iris_virginica}')\n",
    "print(f'Iris-virginica x4 : {ProbDist_x4_Iris_virginica}')"
   ]
  },
  {
   "cell_type": "code",
   "execution_count": 15,
   "metadata": {},
   "outputs": [
    {
     "name": "stdout",
     "output_type": "stream",
     "text": [
      "Iris-versicolor x1 : {'8': 0.02, '6': 0.7, '7': 0.18, '5': 0.1}\n",
      "Iris-versicolor x2 : {'3': 0.7551020408163265, '4': 0.02040816326530612, '2': 0.22448979591836735}\n",
      "Iris-versicolor x3 : {'4': 0.6274509803921569, '5': 0.29411764705882354, '7': 0.0196078431372549, '3': 0.0392156862745098, '6': 0.0196078431372549}\n",
      "Iris-versicolor x4 : {'1': 0.6666666666666666, '2': 0.3333333333333333}\n"
     ]
    }
   ],
   "source": [
    "# Calculate Probability Distribution of attributes given class 'Iris-versicolor'\n",
    "\n",
    "ProbDist_x1_Iris_versicolor = prob_dist(train_set, 0, 'Iris-versicolor')\n",
    "ProbDist_x2_Iris_versicolor = prob_dist(train_set, 1, 'Iris-versicolor')\n",
    "ProbDist_x3_Iris_versicolor = prob_dist(train_set, 2, 'Iris-versicolor')\n",
    "ProbDist_x4_Iris_versicolor = prob_dist(train_set, 3, 'Iris-versicolor')\n",
    "\n",
    "print(f'Iris-versicolor x1 : {ProbDist_x1_Iris_versicolor}')\n",
    "print(f'Iris-versicolor x2 : {ProbDist_x2_Iris_versicolor}')\n",
    "print(f'Iris-versicolor x3 : {ProbDist_x3_Iris_versicolor}')\n",
    "print(f'Iris-versicolor x4 : {ProbDist_x4_Iris_versicolor}')"
   ]
  },
  {
   "cell_type": "code",
   "execution_count": 16,
   "metadata": {},
   "outputs": [],
   "source": [
    "def Naive_Bayes_Classifier(x1, x2, x3, x4):\n",
    "\n",
    "    NB_Score_Iris_virginica = Prob_Iris_virginica * ProbDist_x1_Iris_virginica[x1] * ProbDist_x2_Iris_virginica[x2] * ProbDist_x3_Iris_virginica[x3] * ProbDist_x4_Iris_virginica[x4]\n",
    "\n",
    "    NB_Score_Iris_versicolor = Prob_Iris_versicolor * ProbDist_x1_Iris_versicolor[x1] * ProbDist_x2_Iris_versicolor[x2] * ProbDist_x3_Iris_versicolor[x3] * ProbDist_x4_Iris_versicolor[x4]\n",
    "\n",
    "    winning_class = 'None'\n",
    "\n",
    "    if NB_Score_Iris_virginica > NB_Score_Iris_versicolor:\n",
    "        winning_class = 'Iris-virginica'\n",
    "    elif NB_Score_Iris_virginica < NB_Score_Iris_versicolor:\n",
    "        winning_class = 'Iris-versicolor'\n",
    "    else:\n",
    "        winning_class = 'Even'\n",
    "\n",
    "    return winning_class"
   ]
  },
  {
   "cell_type": "code",
   "execution_count": 17,
   "metadata": {},
   "outputs": [
    {
     "name": "stdout",
     "output_type": "stream",
     "text": [
      "6,3,6,2,Iris-virginica\n",
      "6,3,5,2,Iris-virginica\n",
      "7,3,6,2,Iris-virginica\n",
      "8,4,7,2,Iris-virginica\n",
      "6,3,6,1,Iris-virginica\n",
      "6,3,6,2,Iris-virginica\n",
      "7,3,6,2,Iris-virginica\n",
      "5,2,3,1,Iris-versicolor\n",
      "6,3,6,2,Iris-virginica\n",
      "6,3,5,2,Iris-virginica\n",
      "6,3,5,2,Iris-virginica\n",
      "7,3,5,2,Iris-virginica\n",
      "6,2,4,1,Iris-versicolor\n",
      "8,3,7,2,Iris-virginica\n",
      "6,3,5,2,Iris-virginica\n",
      "6,3,5,2,Iris-virginica\n",
      "5,2,3,1,Iris-versicolor\n",
      "6,3,4,1,Iris-versicolor\n",
      "6,3,6,2,Iris-virginica\n",
      "7,3,5,2,Iris-virginica\n",
      "[['6', '3', '6', '2', 'Iris-virginica'], ['6', '3', '5', '2', 'Iris-virginica'], ['7', '3', '6', '2', 'Iris-virginica'], ['8', '4', '7', '2', 'Iris-virginica'], ['6', '3', '6', '1', 'Iris-virginica'], ['6', '3', '6', '2', 'Iris-virginica'], ['7', '3', '6', '2', 'Iris-virginica'], ['5', '2', '3', '1', 'Iris-versicolor'], ['6', '3', '6', '2', 'Iris-virginica'], ['6', '3', '5', '2', 'Iris-virginica'], ['6', '3', '5', '2', 'Iris-virginica'], ['7', '3', '5', '2', 'Iris-virginica'], ['6', '2', '4', '1', 'Iris-versicolor'], ['8', '3', '7', '2', 'Iris-virginica'], ['6', '3', '5', '2', 'Iris-virginica'], ['6', '3', '5', '2', 'Iris-virginica'], ['5', '2', '3', '1', 'Iris-versicolor'], ['6', '3', '4', '1', 'Iris-versicolor'], ['6', '3', '6', '2', 'Iris-virginica'], ['7', '3', '5', '2', 'Iris-virginica']]\n"
     ]
    }
   ],
   "source": [
    "Test_path = r'C:\\Users\\Ahmed Hossam\\Documents\\Life Science Informatics Documents\\LSI Material\\Winter Semester 23-24\\CS for LSI Students\\Exercises\\Assignment 4\\iris_test.csv'\n",
    "\n",
    "Test_str ,Test_set = NB_GetData(Test_path)\n",
    "\n",
    "print(Test_str)\n",
    "print(Test_set)"
   ]
  },
  {
   "cell_type": "code",
   "execution_count": 18,
   "metadata": {},
   "outputs": [
    {
     "name": "stdout",
     "output_type": "stream",
     "text": [
      "['Iris-virginica', 'Iris-virginica', 'Iris-virginica', 'Iris-virginica', 'Iris-versicolor', 'Iris-virginica', 'Iris-virginica', 'Iris-versicolor', 'Iris-virginica', 'Iris-virginica', 'Iris-virginica', 'Iris-virginica', 'Iris-versicolor', 'Iris-virginica', 'Iris-virginica', 'Iris-virginica', 'Iris-versicolor', 'Iris-versicolor', 'Iris-virginica', 'Iris-virginica']\n",
      "matching score = 95.0%\n"
     ]
    }
   ],
   "source": [
    "y_predict = []\n",
    "\n",
    "test_vol = len(Test_set)\n",
    "\n",
    "matching_score = 0\n",
    "\n",
    "for i in Test_set:\n",
    "    winning_class = Naive_Bayes_Classifier(i[0], i[1], i[2], i[3])\n",
    "    y_predict.append(winning_class)\n",
    "    if winning_class in i:\n",
    "        matching_score += 1\n",
    "\n",
    "print(y_predict)\n",
    "print(f'matching score = {matching_score / test_vol * 100}%')"
   ]
  }
 ],
 "metadata": {
  "kernelspec": {
   "display_name": "Python 3 (ipykernel)",
   "language": "python",
   "name": "python3"
  },
  "language_info": {
   "codemirror_mode": {
    "name": "ipython",
    "version": 3
   },
   "file_extension": ".py",
   "mimetype": "text/x-python",
   "name": "python",
   "nbconvert_exporter": "python",
   "pygments_lexer": "ipython3",
   "version": "3.11.4"
  }
 },
 "nbformat": 4,
 "nbformat_minor": 2
}
