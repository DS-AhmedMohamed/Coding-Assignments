{
 "cells": [
  {
   "cell_type": "markdown",
   "metadata": {},
   "source": [
    "#### Ahmed Mohamd | Ahmed.H.H.Mohamed@gmail.com"
   ]
  },
  {
   "cell_type": "markdown",
   "metadata": {},
   "source": [
    "# CS | OOP Analysis-and-Design"
   ]
  },
  {
   "cell_type": "markdown",
   "metadata": {},
   "source": [
    "The goal of this exercise is to implement Conway's Game of Life, a cellular automaton that models the evolution of cells on a grid. The cells can be in one of two states: alive or dead. The exercise will\n",
    "cover grid initialization, simulation, and visualization. The idea is that you should decide on a suitable representation and code structure with your group, then split up the implementation among the team members, and combine the individual parts into the Final solution.\n",
    "\n",
    "a) Create a Python function that initializes a 2D grid of cells with a size that can be speci\fed as a\n",
    "parameter (e.g., 50 \u0002 50) and random states (alive or dead). (2P)\n",
    "\n",
    "b) Implement a Python function that applies the rules of Conway's Game of Life to a given grid\n",
    "(4P). The rules are as follows:\n",
    "• Any live cell with fewer than two live neighbors dies (underpopulation).\n",
    "• Any live cell with two or three live neighbors lives on to the next generation.\n",
    "• Any live cell with more than three live neighbors dies (overpopulation).\n",
    "• Any dead cell with exactly three live neighbors becomes a live cell (reproduction).\n",
    "\n",
    "c) Create a Python function that simulates the evolution of the grid for a speci\fed number of\n",
    "generations. (2P)\n",
    "\n",
    "d) Visualize the grid at each generation using a graphical representation. You can use Matplotlib for\n",
    "visualization. (3P)\n",
    "\n",
    "e) Add a parameter to the initialization function that allows changing the ratio of alive and dead\n",
    "cells in the initial con\fguration. (2P)"
   ]
  },
  {
   "cell_type": "code",
   "execution_count": 1,
   "metadata": {},
   "outputs": [],
   "source": [
    "class Cell:\n",
    "\n",
    "    def __init__(self, state):\n",
    "        self.state = state\n",
    "\n",
    "    def show(self):\n",
    "        return print(f\"the Cell's state is {self.state}\")\n"
   ]
  },
  {
   "cell_type": "markdown",
   "metadata": {},
   "source": [
    "Create a Python function that initializes a 2D grid of cells with a size that can be specified as a parameter (e.g., 50 ×50) and random states (alive or dead)."
   ]
  },
  {
   "cell_type": "code",
   "execution_count": 8,
   "metadata": {},
   "outputs": [],
   "source": [
    "class Cell:\n",
    "    def __init__(self, state):\n",
    "        self.state = state\n",
    "\n",
    "def initialize_grid(rows, columns):\n",
    "    \"\"\"\n",
    "    Initialize a grid with cells having random states.\n",
    "\n",
    "    Args:\n",
    "        rows (int): Number of rows in the grid.\n",
    "        columns (int): Number of columns in the grid.\n",
    "\n",
    "    Returns:\n",
    "        list: A 2D list representing the grid with randomly initialized cell states.\n",
    "    \"\"\"\n",
    "    from random import choice\n",
    "\n",
    "    states_list = ['alive', 'dead']\n",
    "\n",
    "    grid_nlist = [[Cell('None') for c in range(columns)] for r in range(rows)]\n",
    "\n",
    "    for r in range(len(grid_nlist)):\n",
    "        for c in range(len(grid_nlist[r])):\n",
    "            grid_nlist[r][c].state = choice(states_list)\n",
    "\n",
    "    return grid_nlist\n"
   ]
  },
  {
   "cell_type": "markdown",
   "metadata": {},
   "source": [
    "Implement a Python function that applies the rules of Conway’s Game of Life to a given grid(4P). "
   ]
  },
  {
   "cell_type": "code",
   "execution_count": 14,
   "metadata": {},
   "outputs": [],
   "source": [
    "def conway(nlist):\n",
    "    \"\"\"\n",
    "    Apply Conway's Game of Life rules to the given grid.\n",
    "\n",
    "    Args:\n",
    "        nlist (list of list): The grid of cells.\n",
    "\n",
    "    Returns:\n",
    "        list: The updated grid after applying the rules of Conway's Game of Life.\n",
    "    \"\"\"\n",
    "    out_list = nlist[:]\n",
    "\n",
    "    for r in range(len(out_list)):\n",
    "        for c in range(len(out_list[r])):\n",
    "\n",
    "            neighbors = 0\n",
    "\n",
    "            if r == 0:\n",
    "\n",
    "                if c == 0:\n",
    "\n",
    "                    if nlist[r][c+1].state == 'alive': #right\n",
    "                        neighbors += 1\n",
    "\n",
    "                    if nlist[r+1][c].state == 'alive': #under\n",
    "                        neighbors += 1\n",
    "\n",
    "                    if nlist[r+1][c+1].state == 'alive': #under-right\n",
    "                        neighbors += 1\n",
    "\n",
    "                elif c > 0 and c < (len(out_list[r]) - 1):\n",
    "\n",
    "                    if nlist[r][c+1].state == 'alive': #right\n",
    "                        neighbors += 1\n",
    "\n",
    "                    if nlist[r+1][c].state == 'alive': #under\n",
    "                        neighbors += 1\n",
    "\n",
    "                    if nlist[r+1][c+1].state == 'alive': #under-right\n",
    "                        neighbors += 1\n",
    "\n",
    "                    if nlist[r+1][c-1].state == 'alive': #under-left\n",
    "                        neighbors += 1\n",
    "\n",
    "                elif c == (len(out_list[r]) - 1):\n",
    "\n",
    "                    if nlist[r+1][c].state == 'alive': #under\n",
    "                        neighbors += 1\n",
    "\n",
    "                    if nlist[r+1][c-1].state == 'alive': #under-left\n",
    "                        neighbors += 1\n",
    "\n",
    "                    if nlist[r][c-1].state == 'alive': #left\n",
    "                        neighbors += 1\n",
    "\n",
    "            elif r > 0 and r < (len(out_list) - 1):\n",
    "\n",
    "                if c == 0:\n",
    "\n",
    "                    if nlist[r][c+1].state == 'alive': #right\n",
    "                        neighbors += 1\n",
    "\n",
    "                    if nlist[r+1][c].state == 'alive': #under\n",
    "                        neighbors += 1\n",
    "\n",
    "                    if nlist[r+1][c+1].state == 'alive': #under-right\n",
    "                        neighbors += 1\n",
    "\n",
    "                    if nlist[r-1][c].state == 'alive': #above\n",
    "                        neighbors += 1\n",
    "\n",
    "                    if nlist[r-1][c+1].state == 'alive': #above-right\n",
    "                        neighbors += 1\n",
    "\n",
    "                elif c > 0 and c < (len(out_list[r]) - 1):\n",
    "\n",
    "                    if nlist[r][c+1].state == 'alive': #right\n",
    "                        neighbors += 1\n",
    "\n",
    "                    if nlist[r][c-1].state == 'alive': #left\n",
    "                        neighbors += 1\n",
    "\n",
    "                    if nlist[r-1][c].state == 'alive': #above\n",
    "                        neighbors += 1\n",
    "\n",
    "                    if nlist[r+1][c].state == 'alive': #under\n",
    "                        neighbors += 1\n",
    "\n",
    "                    if nlist[r-1][c+1].state == 'alive': #above-right\n",
    "                        neighbors += 1\n",
    "\n",
    "                    if nlist[r+1][c+1].state == 'alive': #under-right\n",
    "                        neighbors += 1\n",
    "\n",
    "                    if nlist[r-1][c-1].state == 'alive': #above-left\n",
    "                        neighbors += 1\n",
    "\n",
    "                    if nlist[r+1][c-1].state == 'alive': #under-left\n",
    "                        neighbors += 1\n",
    "\n",
    "                elif c == (len(out_list[r]) - 1):\n",
    "\n",
    "                    if nlist[r][c-1].state == 'alive': #left\n",
    "                        neighbors += 1\n",
    "\n",
    "                    if nlist[r-1][c].state == 'alive': #above\n",
    "                        neighbors += 1\n",
    "\n",
    "                    if nlist[r+1][c].state == 'alive': #under\n",
    "                        neighbors += 1\n",
    "\n",
    "                    if nlist[r-1][c-1].state == 'alive': #above-left\n",
    "                        neighbors += 1\n",
    "\n",
    "                    if nlist[r+1][c-1].state == 'alive': #under-left\n",
    "                        neighbors += 1\n",
    "\n",
    "            elif r == (len(out_list) - 1):\n",
    "\n",
    "                if c == 0:\n",
    "\n",
    "                    if nlist[r][c+1].state == 'alive': #right\n",
    "                        neighbors += 1\n",
    "\n",
    "                    if nlist[r-1][c].state == 'alive': #above\n",
    "                        neighbors += 1\n",
    "\n",
    "                    if nlist[r-1][c+1].state == 'alive': #above-right\n",
    "                        neighbors += 1\n",
    "\n",
    "                elif c > 0 and c < (len(out_list[r]) - 1):\n",
    "\n",
    "                    if nlist[r][c+1].state == 'alive': #right\n",
    "                        neighbors += 1\n",
    "\n",
    "                    if nlist[r][c-1].state == 'alive': #left\n",
    "                        neighbors += 1\n",
    "\n",
    "                    if nlist[r-1][c].state == 'alive': #above\n",
    "                        neighbors += 1\n",
    "\n",
    "                    if nlist[r-1][c+1].state == 'alive': #above-right\n",
    "                        neighbors += 1\n",
    "\n",
    "                    if nlist[r-1][c-1].state == 'alive': #above-left\n",
    "                        neighbors += 1\n",
    "\n",
    "                elif c == (len(out_list[r]) - 1):\n",
    "\n",
    "                    if nlist[r][c-1].state == 'alive': #left\n",
    "                        neighbors += 1\n",
    "\n",
    "                    if nlist[r-1][c].state == 'alive': #above\n",
    "                        neighbors += 1\n",
    "\n",
    "                    if nlist[r-1][c-1].state == 'alive': #above-left\n",
    "                        neighbors += 1\n",
    "\n",
    "            \n",
    "\n",
    "            if nlist[r][c].state == 'alive':\n",
    "\n",
    "                if neighbors < 2:\n",
    "                    \n",
    "                    out_list[r][c].state == 'dead'\n",
    "\n",
    "                elif neighbors == 2 or neighbors == 3:\n",
    "\n",
    "                    out_list[r][c].state == 'alive'\n",
    "\n",
    "                elif neighbors > 3:\n",
    "\n",
    "                    out_list[r][c].state == 'dead'\n",
    "\n",
    "            elif nlist[r][c].state == 'dead':\n",
    "\n",
    "                if neighbors == 3:\n",
    "\n",
    "                    out_list[r][c].state == 'alive'\n",
    "\n",
    "    return out_list[:]"
   ]
  },
  {
   "cell_type": "markdown",
   "metadata": {},
   "source": [
    "Create a Python function that simulates the evolution of the grid for a specified number of generations."
   ]
  },
  {
   "cell_type": "code",
   "execution_count": 15,
   "metadata": {},
   "outputs": [],
   "source": [
    "def simulation(grid, generations):\n",
    "\n",
    "    last_generation = grid[:]\n",
    "\n",
    "    for g in range(generations):\n",
    "\n",
    "        last_generation = conway(last_generation[:])\n",
    "\n",
    "    return last_generation[:]"
   ]
  },
  {
   "cell_type": "markdown",
   "metadata": {},
   "source": [
    "Visualize the grid at each generation using a graphical representation. You can use Matplotlib for visualization."
   ]
  },
  {
   "cell_type": "code",
   "execution_count": 16,
   "metadata": {},
   "outputs": [],
   "source": [
    "from matplotlib import pyplot, colors\n",
    "\n",
    "def graph(l_generation):\n",
    "\n",
    "    graph_list = []\n",
    "\n",
    "    for r in range(len(l_generation)):\n",
    "        \n",
    "        row_data = []\n",
    "\n",
    "        for c in range(len(l_generation[r])):\n",
    "\n",
    "            if l_generation[r][c].state == 'alive':\n",
    "\n",
    "                row_data.append(1)\n",
    "\n",
    "            elif l_generation[r][c].state == 'dead':\n",
    "\n",
    "                row_data.append(0)\n",
    "\n",
    "        graph_list.append(row_data)\n",
    "\n",
    "    print(graph_list)\n",
    "\n",
    "    colormap = colors.ListedColormap(['red','green'])\n",
    "\n",
    "    pyplot.figure(figsize=(7,7))\n",
    "    pyplot.imshow(graph_list, cmap = colormap)\n",
    "    pyplot.title('Cells grid of the last population')\n",
    "    pyplot.show()"
   ]
  },
  {
   "cell_type": "code",
   "execution_count": 17,
   "metadata": {},
   "outputs": [
    {
     "name": "stdout",
     "output_type": "stream",
     "text": [
      "[[1, 0, 0, 0, 1, 0, 1, 0, 1, 0, 1, 0, 0, 1, 1, 1, 1, 0, 0, 1], [0, 0, 0, 0, 0, 1, 0, 0, 0, 0, 0, 0, 0, 1, 0, 1, 0, 0, 0, 1], [0, 1, 0, 0, 1, 0, 0, 0, 0, 1, 0, 0, 1, 0, 0, 0, 0, 1, 0, 1], [0, 1, 1, 0, 1, 0, 1, 0, 0, 0, 1, 1, 1, 0, 1, 0, 1, 0, 0, 1], [0, 1, 1, 0, 1, 0, 1, 1, 0, 0, 1, 1, 1, 0, 1, 1, 1, 0, 1, 0], [0, 0, 0, 1, 0, 1, 1, 0, 1, 1, 1, 1, 1, 0, 0, 1, 1, 0, 1, 1], [1, 1, 0, 1, 0, 0, 0, 0, 1, 1, 1, 0, 0, 0, 1, 0, 0, 1, 0, 1], [0, 0, 1, 1, 1, 0, 0, 1, 1, 0, 1, 1, 0, 0, 0, 1, 0, 0, 0, 1], [0, 1, 0, 0, 0, 0, 0, 0, 1, 0, 1, 1, 1, 1, 1, 1, 1, 0, 0, 1], [0, 1, 1, 1, 1, 0, 0, 0, 1, 1, 1, 1, 0, 1, 0, 1, 1, 1, 1, 0], [0, 1, 1, 0, 0, 0, 1, 1, 1, 1, 1, 1, 1, 0, 1, 0, 0, 1, 0, 0], [1, 1, 0, 1, 1, 1, 1, 1, 0, 0, 0, 0, 0, 1, 0, 0, 1, 0, 1, 1], [0, 1, 0, 1, 1, 0, 0, 0, 0, 0, 1, 0, 1, 0, 1, 0, 1, 0, 0, 0], [1, 0, 1, 0, 1, 1, 0, 0, 0, 1, 1, 0, 0, 1, 1, 0, 0, 0, 1, 1], [0, 1, 1, 1, 1, 0, 1, 1, 1, 1, 0, 1, 0, 0, 1, 1, 0, 1, 1, 0], [1, 1, 1, 1, 1, 1, 0, 0, 0, 1, 1, 0, 0, 1, 1, 0, 0, 0, 1, 0], [1, 1, 1, 0, 0, 0, 0, 1, 0, 1, 1, 0, 0, 1, 1, 0, 0, 0, 0, 1], [0, 1, 1, 1, 0, 1, 0, 1, 0, 0, 0, 1, 0, 0, 0, 0, 1, 1, 1, 0], [1, 1, 0, 0, 1, 1, 0, 1, 0, 1, 1, 1, 0, 1, 1, 0, 0, 1, 0, 0], [1, 0, 1, 1, 1, 0, 1, 0, 0, 1, 0, 1, 1, 1, 1, 1, 1, 1, 1, 1]]\n"
     ]
    },
    {
     "data": {
      "image/png": "[encoded data removed]",
      "text/plain": [
       "<Figure size 700x700 with 1 Axes>"
      ]
     },
     "metadata": {},
     "output_type": "display_data"
    }
   ],
   "source": [
    "initial_cell_grid = initialize_grid(20,20)\n",
    "\n",
    "final_generation = simulation(initial_cell_grid, 2)\n",
    "\n",
    "graph(initial_cell_grid)"
   ]
  },
  {
   "cell_type": "code",
   "execution_count": 18,
   "metadata": {},
   "outputs": [
    {
     "name": "stdout",
     "output_type": "stream",
     "text": [
      "[[1, 0, 0, 0, 1, 0, 1, 0, 1, 0, 1, 0, 0, 1, 1, 1, 1, 0, 0, 1], [0, 0, 0, 0, 0, 1, 0, 0, 0, 0, 0, 0, 0, 1, 0, 1, 0, 0, 0, 1], [0, 1, 0, 0, 1, 0, 0, 0, 0, 1, 0, 0, 1, 0, 0, 0, 0, 1, 0, 1], [0, 1, 1, 0, 1, 0, 1, 0, 0, 0, 1, 1, 1, 0, 1, 0, 1, 0, 0, 1], [0, 1, 1, 0, 1, 0, 1, 1, 0, 0, 1, 1, 1, 0, 1, 1, 1, 0, 1, 0], [0, 0, 0, 1, 0, 1, 1, 0, 1, 1, 1, 1, 1, 0, 0, 1, 1, 0, 1, 1], [1, 1, 0, 1, 0, 0, 0, 0, 1, 1, 1, 0, 0, 0, 1, 0, 0, 1, 0, 1], [0, 0, 1, 1, 1, 0, 0, 1, 1, 0, 1, 1, 0, 0, 0, 1, 0, 0, 0, 1], [0, 1, 0, 0, 0, 0, 0, 0, 1, 0, 1, 1, 1, 1, 1, 1, 1, 0, 0, 1], [0, 1, 1, 1, 1, 0, 0, 0, 1, 1, 1, 1, 0, 1, 0, 1, 1, 1, 1, 0], [0, 1, 1, 0, 0, 0, 1, 1, 1, 1, 1, 1, 1, 0, 1, 0, 0, 1, 0, 0], [1, 1, 0, 1, 1, 1, 1, 1, 0, 0, 0, 0, 0, 1, 0, 0, 1, 0, 1, 1], [0, 1, 0, 1, 1, 0, 0, 0, 0, 0, 1, 0, 1, 0, 1, 0, 1, 0, 0, 0], [1, 0, 1, 0, 1, 1, 0, 0, 0, 1, 1, 0, 0, 1, 1, 0, 0, 0, 1, 1], [0, 1, 1, 1, 1, 0, 1, 1, 1, 1, 0, 1, 0, 0, 1, 1, 0, 1, 1, 0], [1, 1, 1, 1, 1, 1, 0, 0, 0, 1, 1, 0, 0, 1, 1, 0, 0, 0, 1, 0], [1, 1, 1, 0, 0, 0, 0, 1, 0, 1, 1, 0, 0, 1, 1, 0, 0, 0, 0, 1], [0, 1, 1, 1, 0, 1, 0, 1, 0, 0, 0, 1, 0, 0, 0, 0, 1, 1, 1, 0], [1, 1, 0, 0, 1, 1, 0, 1, 0, 1, 1, 1, 0, 1, 1, 0, 0, 1, 0, 0], [1, 0, 1, 1, 1, 0, 1, 0, 0, 1, 0, 1, 1, 1, 1, 1, 1, 1, 1, 1]]\n"
     ]
    },
    {
     "data": {
      "image/png": "[encoded data removed]",
      "text/plain": [
       "<Figure size 700x700 with 1 Axes>"
      ]
     },
     "metadata": {},
     "output_type": "display_data"
    }
   ],
   "source": [
    "graph(final_generation)"
   ]
  }
 ],
 "metadata": {
  "kernelspec": {
   "display_name": "base",
   "language": "python",
   "name": "python3"
  },
  "language_info": {
   "codemirror_mode": {
    "name": "ipython",
    "version": 3
   },
   "file_extension": ".py",
   "mimetype": "text/x-python",
   "name": "python",
   "nbconvert_exporter": "python",
   "pygments_lexer": "ipython3",
   "version": "3.11.4"
  }
 },
 "nbformat": 4,
 "nbformat_minor": 2
}
