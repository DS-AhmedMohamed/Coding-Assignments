{
 "cells": [
  {
   "cell_type": "markdown",
   "metadata": {},
   "source": [
    "Ahmed Mohamed - ahmed.h.h.muhamed@gmail.com"
   ]
  },
  {
   "cell_type": "markdown",
   "metadata": {},
   "source": [
    "# Python Basics"
   ]
  },
  {
   "cell_type": "markdown",
   "metadata": {},
   "source": [
    "## Exercise 1 (Heart Rate Maximum and Exercise Intensity, 5 Points)\n",
    "Heart rate maximum (HRmax) is an important factor in exercise physiology used to determine exercise\n",
    "intensity based on age (in years)."
   ]
  },
  {
   "cell_type": "markdown",
   "metadata": {},
   "source": [
    "### a) Write a function haskell\\_fox(age) that calculates HRmax using the Haskell and Fox formula,  $HRmax = 220 - age$. (1P)"
   ]
  },
  {
   "cell_type": "code",
   "execution_count": 1,
   "metadata": {},
   "outputs": [
    {
     "data": {
      "text/plain": [
       "195"
      ]
     },
     "execution_count": 1,
     "metadata": {},
     "output_type": "execute_result"
    }
   ],
   "source": [
    "# defining haskell_fox(age) that calculates HRmax using the Haskell and Fox formula,  𝐻𝑅𝑚𝑎𝑥=220−𝑎𝑔𝑒.\n",
    "\n",
    "def haskell_fox(age) :\n",
    "    \"\"\"\n",
    "    Calculate the maximum heart rate (HRmax) using the Haskell and Fox formula.\n",
    "    \n",
    "    The Haskell and Fox formula for HRmax is HRmax = 220 - age.\n",
    "\n",
    "    Args:\n",
    "        age (int): The age of the individual.\n",
    "\n",
    "    Returns:\n",
    "        int: The maximum heart rate (HRmax) calculated based on the input age.\n",
    "    \"\"\"\n",
    "    HRmax = 220 - age\n",
    "    \n",
    "    return HRmax\n",
    "\n",
    "# Example : Calculate HRmax of someone whose age is 25 years.\n",
    "\n",
    "haskell_fox(25)"
   ]
  },
  {
   "cell_type": "markdown",
   "metadata": {},
   "source": [
    "### b) Write a function oakland_university(age) that calculates HRmax using the non-linear formula from Oakland University, $HRmax = 192 - (0.007 * age^2)$. (1P)"
   ]
  },
  {
   "cell_type": "code",
   "execution_count": 2,
   "metadata": {},
   "outputs": [
    {
     "data": {
      "text/plain": [
       "187.625"
      ]
     },
     "execution_count": 2,
     "metadata": {},
     "output_type": "execute_result"
    }
   ],
   "source": [
    "# defining oakland_university(age) that calculates HRmax using the non-linear formula from Oakland University,  𝐻𝑅𝑚𝑎𝑥=192−(0.007∗𝑎𝑔𝑒2).\n",
    "\n",
    "def oakland_university(age) :\n",
    "    \"\"\"\n",
    "    Calculate the maximum heart rate (HRmax) using the non-linear formula from Oakland University.\n",
    "    \n",
    "    The Oakland University formula for HRmax is HRmax = 192 - (0.007 * age^2).\n",
    "\n",
    "    Args:\n",
    "        age (int): The age of the individual.\n",
    "\n",
    "    Returns:\n",
    "        float: The maximum heart rate (HRmax) calculated based on the input age.\n",
    "    \"\"\"\n",
    "    HRmax = 192 - (0.007 * age ** 2)\n",
    "    \n",
    "    return HRmax\n",
    "\n",
    "# Example : Calculate HRmax of someone whose age is 25 years.\n",
    "\n",
    "oakland_university(25)"
   ]
  },
  {
   "cell_type": "markdown",
   "metadata": {},
   "source": [
    "### Target heart rate (THR) is the desirable range of heart rate to be reached during exercise and is determined by the formula, $THR = HRmax * intensity$.   Generally, the intensity value ranges between 65-85%. Now write a function calculate_target_heart_rate(HRmax_protocol, age, intensity) that calculates THR. (2P)"
   ]
  },
  {
   "cell_type": "code",
   "execution_count": 3,
   "metadata": {},
   "outputs": [],
   "source": [
    "# Defining Target Heart Rate Function\n",
    "\n",
    "def calculate_target_heart_rate(HRmax_protocol, age, intensity) :\n",
    "    \"\"\"\n",
    "    Calculate the target heart rate (THR) based on a given protocol, age, and intensity.\n",
    "\n",
    "    Args:\n",
    "        HRmax_protocol (str): The protocol to calculate HRmax, either \"Haskell and Fox formula\" or \"Oakland University\".\n",
    "        age (int): The age of the individual.\n",
    "        intensity (float): The intensity of the exercise, expressed as a percentage (e.g., 65% to 85%).\n",
    "\n",
    "    Returns:\n",
    "        int: The target heart rate (THR) in beats per minute.\n",
    "\n",
    "    Raises:\n",
    "        ValueError: If intensity is not within the range 65 to 85%.\n",
    "\n",
    "    Note:\n",
    "        This function depends on the haskell_fox(age) and oakland_university(age) functions to calculate HRmax.\n",
    "    \"\"\"\n",
    "    \n",
    "    # Testing the validity of the Intensity Value.\n",
    "    if intensity < 65 or intensity > 85:\n",
    "        raise ValueError(\"Intensity value should be between 65 and 85%.\")\n",
    "\n",
    "    # Calculate THR based on Haskell and Fox formula.\n",
    "    if HRmax_protocol == \"Haskell and Fox formula\":\n",
    "        HRmax = haskell_fox(age)\n",
    "        THR = HRmax * (intensity / 100)\n",
    "        return int(THR)\n",
    "\n",
    "    # Calculate THR based on Oakland University formula.\n",
    "    elif HRmax_protocol == \"Oakland University\":\n",
    "        HRmax = oakland_university(age)\n",
    "        THR = HRmax * (intensity / 100)\n",
    "        return int(THR)\n",
    "\n",
    "    # Return Error message if the protocol entry is incorrect.\n",
    "    else:\n",
    "        raise ValueError(\"Wrong entry for HRmax_protocol, choose 'Haskell and Fox formula' or 'Oakland University'.\")"
   ]
  },
  {
   "cell_type": "markdown",
   "metadata": {},
   "source": [
    "### d) Compare the THR obtained from using different HRmax calculation protocols (a and b) for the same age and intensity. (1P)"
   ]
  },
  {
   "cell_type": "code",
   "execution_count": 4,
   "metadata": {},
   "outputs": [
    {
     "name": "stdout",
     "output_type": "stream",
     "text": [
      "THR based on Haskell and Fox Formula 156\n",
      "THR based on Oakland University Formula 150\n"
     ]
    }
   ],
   "source": [
    "# THR value for Age 25 and Intensity 80 using Haskell and Fox Formula:\n",
    "print(\"THR based on Haskell and Fox Formula\",calculate_target_heart_rate(\"Haskell and Fox formula\", 25, 80))\n",
    "\n",
    "# THR value for Age 25 and Intensity 80 using Oakland University Formula:\n",
    "print(\"THR based on Oakland University Formula\",calculate_target_heart_rate(\"Oakland University\", 25, 80))"
   ]
  },
  {
   "cell_type": "markdown",
   "metadata": {},
   "source": [
    "## Exercise 2 (Editing and Analyzing Text, 10 Points)"
   ]
  },
  {
   "cell_type": "markdown",
   "metadata": {},
   "source": [
    "Let $p$ be a Python string that represents the following paragraph:\n",
    "\n",
    "*Python is a widely used high-level programming language. Python has a design philosophy that emphasizes code readability. Syntax of python allows programmers to express concepts in fewer lines of code. The language provides constructs intended to enable writing clear programs on both a small and large scale.*"
   ]
  },
  {
   "cell_type": "code",
   "execution_count": 18,
   "metadata": {},
   "outputs": [],
   "source": [
    "p = (\"Python is a widely used high-level programming language. Python has a design philosophy\"\n",
    "     \"that emphasizes code readability. Syntax of python allows programmers to express \"\n",
    "     \"concepts in fewer lines of code. The language provides constructs intended to enable \"\n",
    "     \"writing clear programs on both a small and large scale.\")"
   ]
  },
  {
   "cell_type": "markdown",
   "metadata": {},
   "source": [
    "### a) Write a function that gets a string $p$ as its input and returns the number of sentences in $p$. (2P)"
   ]
  },
  {
   "cell_type": "code",
   "execution_count": 17,
   "metadata": {},
   "outputs": [
    {
     "data": {
      "text/plain": [
       "4"
      ]
     },
     "execution_count": 17,
     "metadata": {},
     "output_type": "execute_result"
    }
   ],
   "source": [
    "def count_sentences(paragraph):\n",
    "    \"\"\"\n",
    "    Count the number of sentences in a paragraph.\n",
    "\n",
    "    Args:\n",
    "        paragraph (str): The input paragraph.\n",
    "\n",
    "    Returns:\n",
    "        int: The number of sentences in the paragraph.\n",
    "\n",
    "    Note:\n",
    "        This function considers a sentence to be terminated by period ('.'), question mark ('?'), or exclamation mark ('!').\n",
    "        It may not handle all cases perfectly, such as abbreviations or ellipses.\n",
    "    \"\"\"\n",
    "    # Count how many end marks - the period, the question mark, and the exclamation mark.\n",
    "    count_of_sentences = (paragraph.count('.') + paragraph.count('?') + paragraph.count('!'))\n",
    "\n",
    "    # Return the number of sentences.\n",
    "    return count_of_sentences\n",
    "\n",
    "# Example: Test paragraph - Expected Result is 4\n",
    "p = \"This is a sentence. And another one! What about this? Yes, it is.\"\n",
    "count_sentences(p)"
   ]
  },
  {
   "cell_type": "markdown",
   "metadata": {},
   "source": [
    "### b) Write a function that gets two strings as input parameters, $p$ and $k$. It should check if word $k$ exists in $p$, and return $k+$\" is in the paragraph.'' if it does, $k$+\" is not in the paragraph.'' if it doesn't. Use k='language' and k='exclude' to test your function. (3P)"
   ]
  },
  {
   "cell_type": "code",
   "execution_count": 19,
   "metadata": {},
   "outputs": [
    {
     "name": "stdout",
     "output_type": "stream",
     "text": [
      "language is in the paragraph\n",
      "exclude is not in the paragraph\n"
     ]
    }
   ],
   "source": [
    "def search_word(paragraph, k):\n",
    "    \"\"\"\n",
    "    Count occurrences of a specific word within a paragraph.\n",
    "\n",
    "    Args:\n",
    "        paragraph (str): The input paragraph.\n",
    "        k (str): The word to search for within the paragraph.\n",
    "\n",
    "    Returns:\n",
    "        str: A message indicating whether the word was found or not.\n",
    "\n",
    "    Note:\n",
    "        This function is case-sensitive.\n",
    "    \"\"\"\n",
    "    # Initialize counter for the word occurrence.\n",
    "    k_count = 0\n",
    "    \n",
    "    # Count occurrences of the word in the paragraph.\n",
    "    k_count = paragraph.count(k)\n",
    "    \n",
    "    # If counter is more than 0, k exists in the paragraph.\n",
    "    if k_count > 0:\n",
    "        return f\"{k} is in the paragraph\"\n",
    "    else:\n",
    "        return f\"{k} is not in the paragraph\"\n",
    "\n",
    "# Example: 'language' - positive result expected.\n",
    "print(search_word(p, 'language'))\n",
    "\n",
    "# Example: 'exclude' - negative result expected.\n",
    "print(search_word(p, 'exclude'))"
   ]
  },
  {
   "cell_type": "markdown",
   "metadata": {},
   "source": [
    "### c) Write a function that gets string $p$ as input, automatically removes the last sentence from $p$, and returns the result. (5P)"
   ]
  },
  {
   "cell_type": "code",
   "execution_count": 21,
   "metadata": {},
   "outputs": [
    {
     "name": "stdout",
     "output_type": "stream",
     "text": [
      "Python is a widely used high-level programming language. Python has a design philosophythat emphasizes code readability. Syntax of python allows programmers to express concepts in fewer lines of code.\n"
     ]
    }
   ],
   "source": [
    "def remove_last_sentence(paragraph):\n",
    "    \"\"\"\n",
    "    Remove the last sentence from a paragraph.\n",
    "\n",
    "    Args:\n",
    "        paragraph (str): The input paragraph.\n",
    "\n",
    "    Returns:\n",
    "        str: The paragraph with the last sentence removed.\n",
    "\n",
    "    Note:\n",
    "        This function assumes that a sentence is terminated by a period followed by a space ('. ').\n",
    "    \"\"\"\n",
    "    # Return the paragraph until the last '. '\n",
    "    return paragraph[:paragraph.rfind('. ') + 1]\n",
    "\n",
    "# Example: Remove the last sentence from paragraph 'p'\n",
    "print(remove_last_sentence(p))"
   ]
  },
  {
   "cell_type": "markdown",
   "metadata": {},
   "source": [
    "## Exercise 3 (Body-Mass-Index, 6 Points)"
   ]
  },
  {
   "cell_type": "markdown",
   "metadata": {},
   "source": [
    "### a) Define $bmi(height, weight)$ function that gets two input parameters and computes the BMI formula and returns the result. Use bmi(height, weight) to compute the BMI for the following data-set. (2P)\n",
    "\n",
    "+ height 1.74m, weight 75kg, male\n",
    "+ height 1.85m, weight 69kg, male\n",
    "+ height 1.71m, weight 128kg, female"
   ]
  },
  {
   "cell_type": "code",
   "execution_count": 23,
   "metadata": {},
   "outputs": [],
   "source": [
    "def bmi(height, weight):\n",
    "    \"\"\"\n",
    "    Calculate the Body Mass Index (BMI) using Metric Units.\n",
    "\n",
    "    Args:\n",
    "        height (float): Height in meters.\n",
    "        weight (float): Weight in kilograms.\n",
    "\n",
    "    Returns:\n",
    "        float: The BMI calculated from the given height and weight.\n",
    "\n",
    "    Note:\n",
    "        BMI is calculated as weight (kg) / (height (m) * height (m)).\n",
    "    \"\"\"\n",
    "    # Calculate BMI = weight / (height ^ 2)\n",
    "    bmi = weight / (height ** 2)\n",
    "    \n",
    "    return bmi"
   ]
  },
  {
   "cell_type": "code",
   "execution_count": 24,
   "metadata": {},
   "outputs": [],
   "source": [
    "data = [(1.74, 75, \"m\"), (1.85, 69, \"m\"), (1.71, 128, \"f\")]"
   ]
  },
  {
   "cell_type": "code",
   "execution_count": 25,
   "metadata": {},
   "outputs": [
    {
     "name": "stdout",
     "output_type": "stream",
     "text": [
      "Height is 1.74, Weight is 75, BMI is 24.77\n",
      "Height is 1.85, Weight is 69, BMI is 20.16\n",
      "Height is 1.71, Weight is 128, BMI is 43.77\n"
     ]
    }
   ],
   "source": [
    "# For loop : calculate BMI for each record within the dataset \"data\"\n",
    "for i in data :\n",
    "    \n",
    "    bmi_value = round(bmi(i[0], i[1]), 2)\n",
    "    \n",
    "    print(f\"Height is {i[0]}, Weight is {i[1]}, BMI is {bmi_value}\")"
   ]
  },
  {
   "cell_type": "markdown",
   "metadata": {},
   "source": [
    "### b) Define $condition(height, weight, gender)$ function that, in addition to height and weight, gets gender as input and uses the information provided in the following table to return the condition of a person by calculating his/her BMI. Try to call the $bmi(height, weight)$ for BMI calculation in the $condition(height, weight, gender)$ function. (4P)\n",
    "\n",
    "Condition | Women | Men\n",
    ":--- | :---: | :---:\n",
    "underweight | <20 | <21\n",
    "normal | 20-26 | 21-27\n",
    "slight overweight | 26-30 | 27-31\n",
    "overweight | >30 | >31"
   ]
  },
  {
   "cell_type": "code",
   "execution_count": 27,
   "metadata": {},
   "outputs": [
    {
     "name": "stdout",
     "output_type": "stream",
     "text": [
      "Height is 1.74, Weight is 75, Gender is m, BMI is 24.77, and Condition is normal\n",
      "Height is 1.85, Weight is 69, Gender is m, BMI is 20.16, and Condition is underweight\n",
      "Height is 1.71, Weight is 128, Gender is f, BMI is 43.77, and Condition is overweight\n"
     ]
    }
   ],
   "source": [
    "def condition(height, weight, gender):\n",
    "    \"\"\"\n",
    "    Determine the condition based on BMI for a given height, weight, and gender.\n",
    "\n",
    "    Args:\n",
    "        height (float): Height in meters.\n",
    "        weight (float): Weight in kilograms.\n",
    "        gender (str): Gender, either 'm' for male or 'f' for female.\n",
    "\n",
    "    Returns:\n",
    "        str: A message indicating the condition based on BMI.\n",
    "\n",
    "    Note:\n",
    "        This function uses the BMI function to calculate BMI.\n",
    "    \"\"\"\n",
    "    # Calculate BMI Value\n",
    "    bmi_value = round(bmi(height, weight), 2)\n",
    "\n",
    "    # Determine Condition based on BMI if Gender is Male\n",
    "    if gender == 'm':\n",
    "        if bmi_value < 21:\n",
    "            condition = \"underweight\"\n",
    "        elif 21 <= bmi_value < 27:\n",
    "            condition = \"normal\"\n",
    "        elif 27 <= bmi_value <= 31:\n",
    "            condition = \"slight overweight\"\n",
    "        else:\n",
    "            condition = \"overweight\"\n",
    "\n",
    "    # Determine Condition based on BMI if Gender is Female\n",
    "    elif gender == 'f':\n",
    "        if bmi_value < 20:\n",
    "            condition = \"underweight\"\n",
    "        elif 20 <= bmi_value < 26:\n",
    "            condition = \"normal\"\n",
    "        elif 26 <= bmi_value <= 30:\n",
    "            condition = \"slight overweight\"\n",
    "        else:\n",
    "            condition = \"overweight\"\n",
    "\n",
    "    # Return Result\n",
    "    return (f\"Height is {height}, Weight is {weight}, Gender is {gender}, BMI is {bmi_value}, and Condition is {condition}\")\n",
    "\n",
    "# For Loop to determine BMI and Condition of each record within data dataset.\n",
    "for i in data:\n",
    "    print(condition(i[0], i[1], i[2]))"
   ]
  },
  {
   "cell_type": "markdown",
   "metadata": {},
   "source": [
    "## Exercise 4 (Modules in Python, 4 Points)"
   ]
  },
  {
   "cell_type": "markdown",
   "metadata": {},
   "source": [
    "One of the strengths of Python is the availability of modules for many different tasks. Use available Python modules to solve the following tasks:\n",
    "\n",
    "### a) Print your current working directory. (1P)"
   ]
  },
  {
   "cell_type": "code",
   "execution_count": 28,
   "metadata": {},
   "outputs": [
    {
     "name": "stdout",
     "output_type": "stream",
     "text": [
      "c:\\Users\\Ahmed Hossam\\Documents\\Germany Documents\\LSI Material\\Winter Semester 23-24\\CS for LSI Students\\Exercises\\Assignment 1\n"
     ]
    }
   ],
   "source": [
    "import os\n",
    "\n",
    "print(os.getcwd())"
   ]
  },
  {
   "cell_type": "markdown",
   "metadata": {},
   "source": [
    "### b) Print the current time. (1P)"
   ]
  },
  {
   "cell_type": "code",
   "execution_count": 29,
   "metadata": {},
   "outputs": [
    {
     "name": "stdout",
     "output_type": "stream",
     "text": [
      "2024-04-24 11:23:52.611971\n"
     ]
    }
   ],
   "source": [
    "from datetime import datetime\n",
    "\n",
    "print(datetime.now())"
   ]
  },
  {
   "cell_type": "markdown",
   "metadata": {},
   "source": [
    "### c)Print the HTML content of https://docs.python.org/3/tutorial/ . (2P)"
   ]
  },
  {
   "cell_type": "code",
   "execution_count": 30,
   "metadata": {},
   "outputs": [
    {
     "name": "stdout",
     "output_type": "stream",
     "text": [
      "b'<!DOCTYPE html>\\n\\n<html lang=\"en\" data-content_root=\"../\">\\n  <head>\\n    <meta charset=\"utf-8\" />\\n    <meta name=\"viewport\" content=\"width=device-width, initial-scale=1.0\" /><meta name=\"viewport\" content=\"width=device-width, initial-scale=1\" />\\n<meta property=\"og:title\" content=\"The Python Tutorial\" />\\n<meta property=\"og:type\" content=\"website\" />\\n<meta property=\"og:url\" content=\"https://docs.python.org/3/tutorial/index.html\" />\\n<meta property=\"og:site_name\" content=\"Python documentation\" />\\n<meta property=\"og:description\" content=\"Python is an easy to learn, powerful programming language. It has efficient high-level data structures and a simple but effective approach to object-oriented programming. Python\\xe2\\x80\\x99s elegant syntax an...\" />\\n<meta property=\"og:image\" content=\"https://docs.python.org/3/_static/og-image.png\" />\\n<meta property=\"og:image:alt\" content=\"Python documentation\" />\\n<meta name=\"description\" content=\"Python is an easy to learn, powerful programming language. It has efficient high-level data structures and a simple but effective approach to object-oriented programming. Python\\xe2\\x80\\x99s elegant syntax an...\" />\\n<meta property=\"og:image:width\" content=\"200\" />\\n<meta property=\"og:image:height\" content=\"200\" />\\n<meta name=\"theme-color\" content=\"#3776ab\" />\\n\\n    <title>The Python Tutorial &#8212; Python 3.12.3 documentation</title><meta name=\"viewport\" content=\"width=device-width, initial-scale=1.0\">\\n    \\n    <link rel=\"stylesheet\" type=\"text/css\" href=\"../_static/pygments.css?v=80d5e7a1\" />\\n    <link rel=\"stylesheet\" type=\"text/css\" href=\"../_static/pydoctheme.css?v=bb723527\" />\\n    <link id=\"pygments_dark_css\" media=\"(prefers-color-scheme: dark)\" rel=\"stylesheet\" type=\"text/css\" href=\"../_static/pygments_dark.css?v=b20cc3f5\" />\\n    \\n    <script src=\"../_static/documentation_options.js?v=2c828074\"></script>\\n    <script src=\"../_static/doctools.js?v=888ff710\"></script>\\n    <script src=\"../_static/sphinx_highlight.js?v=dc90522c\"></script>\\n    \\n    <script src=\"../_static/sidebar.js\"></script>\\n    \\n    <link rel=\"search\" type=\"application/opensearchdescription+xml\"\\n          title=\"Search within Python 3.12.3 documentation\"\\n          href=\"../_static/opensearch.xml\"/>\\n    <link rel=\"author\" title=\"About these documents\" href=\"../about.html\" />\\n    <link rel=\"index\" title=\"Index\" href=\"../genindex.html\" />\\n    <link rel=\"search\" title=\"Search\" href=\"../search.html\" />\\n    <link rel=\"copyright\" title=\"Copyright\" href=\"../copyright.html\" />\\n    <link rel=\"next\" title=\"1. Whetting Your Appetite\" href=\"appetite.html\" />\\n    <link rel=\"prev\" title=\"Changelog\" href=\"../whatsnew/changelog.html\" />\\n    <link rel=\"canonical\" href=\"https://docs.python.org/3/tutorial/index.html\" />\\n    \\n      \\n    \\n\\n    \\n    <style>\\n      @media only screen {\\n        table.full-width-table {\\n            width: 100%;\\n        }\\n      }\\n    </style>\\n<link rel=\"stylesheet\" href=\"../_static/pydoctheme_dark.css\" media=\"(prefers-color-scheme: dark)\" id=\"pydoctheme_dark_css\">\\n    <link rel=\"shortcut icon\" type=\"image/png\" href=\"../_static/py.svg\" />\\n            <script type=\"text/javascript\" src=\"../_static/copybutton.js\"></script>\\n            <script type=\"text/javascript\" src=\"../_static/menu.js\"></script>\\n            <script type=\"text/javascript\" src=\"../_static/search-focus.js\"></script>\\n            <script type=\"text/javascript\" src=\"../_static/themetoggle.js\"></script> \\n\\n<meta name=\"readthedocs-addons-api-version\" content=\"1\">\\n<script type=\"text/javascript\">\\n function onSwitch(event) {\\n     const option = event.target.selectedIndex;\\n     const item = event.target.options[option];\\n     window.location.href = item.dataset.url;\\n }\\n\\n document.addEventListener(\"readthedocs-addons-data-ready\", function(event) {\\n   const config = event.detail.data()\\n\\n   // Add some mocked hardcoded versions pointing to the official\\n   // documentation while migrating to Read the Docs.\\n   // These are only for testing purposes.\\n   // TODO: remove them when managing all the versions on Read the Docs,\\n   // since all the \"active, built and not hidden\" versions will be shown automatically.\\n   let versions = config.versions.active.concat([\\n       {\\n           slug: \"dev (3.13)\",\\n           urls: {\\n               documentation: \"https://docs.python.org/3.13/\",\\n           }\\n       },\\n       {\\n           slug: \"3.12\",\\n           urls: {\\n               documentation: \"https://docs.python.org/3.12/\",\\n           }\\n       },\\n       {\\n           slug: \"3.11\",\\n           urls: {\\n               documentation: \"https://docs.python.org/3.11/\",\\n           }\\n       },\\n   ]);\\n\\n   const versionSelect = `\\n   <select id=\"version_select\">\\n   ${ versions.map(\\n       (version) => `\\n       <option\\n           value=\"${ version.slug }\"\\n           ${ config.versions.current.slug === version.slug ? \\'selected=\"selected\"\\' : \\'\\' }\\n           data-url=\"${ version.urls.documentation }\">\\n           ${ version.slug }\\n       </option>`\\n   ).join(\"\\\\n\") }\\n   </select>\\n   `;\\n\\n   // Prepend the current language to the options on the selector\\n   let languages = config.projects.translations.concat(config.projects.current);\\n   languages = languages.sort((a, b) => a.language.name.localeCompare(b.language.name));\\n\\n   const languageSelect = `\\n   <select id=\"language_select\">\\n   ${ languages.map(\\n       (translation) => `\\n       <option\\n           value=\"${ translation.slug }\"\\n           ${ config.projects.current.slug === translation.slug ? \\'selected=\"selected\"\\' : \\'\\' }\\n           data-url=\"${ translation.urls.documentation }\">\\n           ${ translation.language.name }\\n       </option>`\\n   ).join(\"\\\\n\") }\\n   </select>\\n   `;\\n\\n   // Query all the placeholders because there are different ones for Desktop/Mobile\\n   const versionPlaceholders = document.querySelectorAll(\".version_switcher_placeholder\");\\n   for (placeholder of versionPlaceholders) {\\n       placeholder.innerHTML = versionSelect;\\n       let selectElement = placeholder.querySelector(\"select\");\\n       selectElement.addEventListener(\"change\", onSwitch);\\n   }\\n\\n   const languagePlaceholders = document.querySelectorAll(\".language_switcher_placeholder\");\\n   for (placeholder of languagePlaceholders) {\\n       placeholder.innerHTML = languageSelect;\\n       let selectElement = placeholder.querySelector(\"select\");\\n       selectElement.addEventListener(\"change\", onSwitch);\\n   }\\n });\\n</script>\\n\\n  </head>\\n<body>\\n<div class=\"mobile-nav\">\\n    <input type=\"checkbox\" id=\"menuToggler\" class=\"toggler__input\" aria-controls=\"navigation\"\\n           aria-pressed=\"false\" aria-expanded=\"false\" role=\"button\" aria-label=\"Menu\" />\\n    <nav class=\"nav-content\" role=\"navigation\">\\n        <label for=\"menuToggler\" class=\"toggler__label\">\\n            <span></span>\\n        </label>\\n        <span class=\"nav-items-wrapper\">\\n            <a href=\"https://www.python.org/\" class=\"nav-logo\">\\n                <img src=\"../_static/py.svg\" alt=\"Python logo\"/>\\n            </a>\\n            <span class=\"version_switcher_placeholder\"></span>\\n            <form role=\"search\" class=\"search\" action=\"../search.html\" method=\"get\">\\n                <svg xmlns=\"http://www.w3.org/2000/svg\" width=\"20\" height=\"20\" viewBox=\"0 0 24 24\" class=\"search-icon\">\\n                    <path fill-rule=\"nonzero\" fill=\"currentColor\" d=\"M15.5 14h-.79l-.28-.27a6.5 6.5 0 001.48-5.34c-.47-2.78-2.79-5-5.59-5.34a6.505 6.505 0 00-7.27 7.27c.34 2.8 2.56 5.12 5.34 5.59a6.5 6.5 0 005.34-1.48l.27.28v.79l4.25 4.25c.41.41 1.08.41 1.49 0 .41-.41.41-1.08 0-1.49L15.5 14zm-6 0C7.01 14 5 11.99 5 9.5S7.01 5 9.5 5 14 7.01 14 9.5 11.99 14 9.5 14z\"></path>\\n                </svg>\\n                <input placeholder=\"Quick search\" aria-label=\"Quick search\" type=\"search\" name=\"q\" />\\n                <input type=\"submit\" value=\"Go\"/>\\n            </form>\\n        </span>\\n    </nav>\\n    <div class=\"menu-wrapper\">\\n        <nav class=\"menu\" role=\"navigation\" aria-label=\"main navigation\">\\n            <div class=\"language_switcher_placeholder\"></div>\\n            \\n<label class=\"theme-selector-label\">\\n    Theme\\n    <select class=\"theme-selector\" oninput=\"activateTheme(this.value)\">\\n        <option value=\"auto\" selected>Auto</option>\\n        <option value=\"light\">Light</option>\\n        <option value=\"dark\">Dark</option>\\n    </select>\\n</label>\\n  <div>\\n    <h4>Previous topic</h4>\\n    <p class=\"topless\"><a href=\"../whatsnew/changelog.html\"\\n                          title=\"previous chapter\">Changelog</a></p>\\n  </div>\\n  <div>\\n    <h4>Next topic</h4>\\n    <p class=\"topless\"><a href=\"appetite.html\"\\n                          title=\"next chapter\"><span class=\"section-number\">1. </span>Whetting Your Appetite</a></p>\\n  </div>\\n  <div role=\"note\" aria-label=\"source link\">\\n    <h3>This Page</h3>\\n    <ul class=\"this-page-menu\">\\n      <li><a href=\"../bugs.html\">Report a Bug</a></li>\\n      <li>\\n        <a href=\"https://github.com/python/cpython/blob/main/Doc/tutorial/index.rst\"\\n            rel=\"nofollow\">Show Source\\n        </a>\\n      </li>\\n    </ul>\\n  </div>\\n        </nav>\\n    </div>\\n</div>\\n\\n  \\n    <div class=\"related\" role=\"navigation\" aria-label=\"related navigation\">\\n      <h3>Navigation</h3>\\n      <ul>\\n        <li class=\"right\" style=\"margin-right: 10px\">\\n          <a href=\"../genindex.html\" title=\"General Index\"\\n             accesskey=\"I\">index</a></li>\\n        <li class=\"right\" >\\n          <a href=\"../py-modindex.html\" title=\"Python Module Index\"\\n             >modules</a> |</li>\\n        <li class=\"right\" >\\n          <a href=\"appetite.html\" title=\"1. Whetting Your Appetite\"\\n             accesskey=\"N\">next</a> |</li>\\n        <li class=\"right\" >\\n          <a href=\"../whatsnew/changelog.html\" title=\"Changelog\"\\n             accesskey=\"P\">previous</a> |</li>\\n\\n          <li><img src=\"../_static/py.svg\" alt=\"Python logo\" style=\"vertical-align: middle; margin-top: -1px\"/></li>\\n          <li><a href=\"https://www.python.org/\">Python</a> &#187;</li>\\n          <li class=\"switchers\">\\n            <div class=\"language_switcher_placeholder\"></div>\\n            <div class=\"version_switcher_placeholder\"></div>\\n          </li>\\n          <li>\\n              \\n          </li>\\n    <li id=\"cpython-language-and-version\">\\n      <a href=\"../index.html\">3.12.3 Documentation</a> &#187;\\n    </li>\\n\\n        <li class=\"nav-item nav-item-this\"><a href=\"\">The Python Tutorial</a></li>\\n                <li class=\"right\">\\n                    \\n\\n    <div class=\"inline-search\" role=\"search\">\\n        <form class=\"inline-search\" action=\"../search.html\" method=\"get\">\\n          <input placeholder=\"Quick search\" aria-label=\"Quick search\" type=\"search\" name=\"q\" id=\"search-box\" />\\n          <input type=\"submit\" value=\"Go\" />\\n        </form>\\n    </div>\\n                     |\\n                </li>\\n            <li class=\"right\">\\n<label class=\"theme-selector-label\">\\n    Theme\\n    <select class=\"theme-selector\" oninput=\"activateTheme(this.value)\">\\n        <option value=\"auto\" selected>Auto</option>\\n        <option value=\"light\">Light</option>\\n        <option value=\"dark\">Dark</option>\\n    </select>\\n</label> |</li>\\n            \\n      </ul>\\n    </div>    \\n\\n    <div class=\"document\">\\n      <div class=\"documentwrapper\">\\n        <div class=\"bodywrapper\">\\n          <div class=\"body\" role=\"main\">\\n            \\n  <section id=\"the-python-tutorial\">\\n<span id=\"tutorial-index\"></span><h1>The Python Tutorial<a class=\"headerlink\" href=\"#the-python-tutorial\" title=\"Link to this heading\">\\xc2\\xb6</a></h1>\\n<p>Python is an easy to learn, powerful programming language. It has efficient\\nhigh-level data structures and a simple but effective approach to\\nobject-oriented programming. Python\\xe2\\x80\\x99s elegant syntax and dynamic typing,\\ntogether with its interpreted nature, make it an ideal language for scripting\\nand rapid application development in many areas on most platforms.</p>\\n<p>The Python interpreter and the extensive standard library are freely available\\nin source or binary form for all major platforms from the Python web site,\\n<a class=\"reference external\" href=\"https://www.python.org/\">https://www.python.org/</a>, and may be freely distributed. The same site also\\ncontains distributions of and pointers to many free third party Python modules,\\nprograms and tools, and additional documentation.</p>\\n<p>The Python interpreter is easily extended with new functions and data types\\nimplemented in C or C++ (or other languages callable from C). Python is also\\nsuitable as an extension language for customizable applications.</p>\\n<p>This tutorial introduces the reader informally to the basic concepts and\\nfeatures of the Python language and system. It helps to have a Python\\ninterpreter handy for hands-on experience, but all examples are self-contained,\\nso the tutorial can be read off-line as well.</p>\\n<p>For a description of standard objects and modules, see <a class=\"reference internal\" href=\"../library/index.html#library-index\"><span class=\"std std-ref\">The Python Standard Library</span></a>.\\n<a class=\"reference internal\" href=\"../reference/index.html#reference-index\"><span class=\"std std-ref\">The Python Language Reference</span></a> gives a more formal definition of the language.  To write\\nextensions in C or C++, read <a class=\"reference internal\" href=\"../extending/index.html#extending-index\"><span class=\"std std-ref\">Extending and Embedding the Python Interpreter</span></a> and\\n<a class=\"reference internal\" href=\"../c-api/index.html#c-api-index\"><span class=\"std std-ref\">Python/C API Reference Manual</span></a>. There are also several books covering Python in depth.</p>\\n<p>This tutorial does not attempt to be comprehensive and cover every single\\nfeature, or even every commonly used feature. Instead, it introduces many of\\nPython\\xe2\\x80\\x99s most noteworthy features, and will give you a good idea of the\\nlanguage\\xe2\\x80\\x99s flavor and style. After reading it, you will be able to read and\\nwrite Python modules and programs, and you will be ready to learn more about the\\nvarious Python library modules described in <a class=\"reference internal\" href=\"../library/index.html#library-index\"><span class=\"std std-ref\">The Python Standard Library</span></a>.</p>\\n<p>The <a class=\"reference internal\" href=\"../glossary.html#glossary\"><span class=\"std std-ref\">Glossary</span></a> is also worth going through.</p>\\n<div class=\"toctree-wrapper compound\">\\n<ul>\\n<li class=\"toctree-l1\"><a class=\"reference internal\" href=\"appetite.html\">1. Whetting Your Appetite</a></li>\\n<li class=\"toctree-l1\"><a class=\"reference internal\" href=\"interpreter.html\">2. Using the Python Interpreter</a><ul>\\n<li class=\"toctree-l2\"><a class=\"reference internal\" href=\"interpreter.html#invoking-the-interpreter\">2.1. Invoking the Interpreter</a><ul>\\n<li class=\"toctree-l3\"><a class=\"reference internal\" href=\"interpreter.html#argument-passing\">2.1.1. Argument Passing</a></li>\\n<li class=\"toctree-l3\"><a class=\"reference internal\" href=\"interpreter.html#interactive-mode\">2.1.2. Interactive Mode</a></li>\\n</ul>\\n</li>\\n<li class=\"toctree-l2\"><a class=\"reference internal\" href=\"interpreter.html#the-interpreter-and-its-environment\">2.2. The Interpreter and Its Environment</a><ul>\\n<li class=\"toctree-l3\"><a class=\"reference internal\" href=\"interpreter.html#source-code-encoding\">2.2.1. Source Code Encoding</a></li>\\n</ul>\\n</li>\\n</ul>\\n</li>\\n<li class=\"toctree-l1\"><a class=\"reference internal\" href=\"introduction.html\">3. An Informal Introduction to Python</a><ul>\\n<li class=\"toctree-l2\"><a class=\"reference internal\" href=\"introduction.html#using-python-as-a-calculator\">3.1. Using Python as a Calculator</a><ul>\\n<li class=\"toctree-l3\"><a class=\"reference internal\" href=\"introduction.html#numbers\">3.1.1. Numbers</a></li>\\n<li class=\"toctree-l3\"><a class=\"reference internal\" href=\"introduction.html#text\">3.1.2. Text</a></li>\\n<li class=\"toctree-l3\"><a class=\"reference internal\" href=\"introduction.html#lists\">3.1.3. Lists</a></li>\\n</ul>\\n</li>\\n<li class=\"toctree-l2\"><a class=\"reference internal\" href=\"introduction.html#first-steps-towards-programming\">3.2. First Steps Towards Programming</a></li>\\n</ul>\\n</li>\\n<li class=\"toctree-l1\"><a class=\"reference internal\" href=\"controlflow.html\">4. More Control Flow Tools</a><ul>\\n<li class=\"toctree-l2\"><a class=\"reference internal\" href=\"controlflow.html#if-statements\">4.1. <code class=\"xref std std-keyword docutils literal notranslate\"><span class=\"pre\">if</span></code> Statements</a></li>\\n<li class=\"toctree-l2\"><a class=\"reference internal\" href=\"controlflow.html#for-statements\">4.2. <code class=\"xref std std-keyword docutils literal notranslate\"><span class=\"pre\">for</span></code> Statements</a></li>\\n<li class=\"toctree-l2\"><a class=\"reference internal\" href=\"controlflow.html#the-range-function\">4.3. The <code class=\"xref py py-func docutils literal notranslate\"><span class=\"pre\">range()</span></code> Function</a></li>\\n<li class=\"toctree-l2\"><a class=\"reference internal\" href=\"controlflow.html#break-and-continue-statements-and-else-clauses-on-loops\">4.4. <code class=\"xref std std-keyword docutils literal notranslate\"><span class=\"pre\">break</span></code> and <code class=\"xref std std-keyword docutils literal notranslate\"><span class=\"pre\">continue</span></code> Statements, and <code class=\"xref std std-keyword docutils literal notranslate\"><span class=\"pre\">else</span></code> Clauses on Loops</a></li>\\n<li class=\"toctree-l2\"><a class=\"reference internal\" href=\"controlflow.html#pass-statements\">4.5. <code class=\"xref std std-keyword docutils literal notranslate\"><span class=\"pre\">pass</span></code> Statements</a></li>\\n<li class=\"toctree-l2\"><a class=\"reference internal\" href=\"controlflow.html#match-statements\">4.6. <code class=\"xref std std-keyword docutils literal notranslate\"><span class=\"pre\">match</span></code> Statements</a></li>\\n<li class=\"toctree-l2\"><a class=\"reference internal\" href=\"controlflow.html#defining-functions\">4.7. Defining Functions</a></li>\\n<li class=\"toctree-l2\"><a class=\"reference internal\" href=\"controlflow.html#more-on-defining-functions\">4.8. More on Defining Functions</a><ul>\\n<li class=\"toctree-l3\"><a class=\"reference internal\" href=\"controlflow.html#default-argument-values\">4.8.1. Default Argument Values</a></li>\\n<li class=\"toctree-l3\"><a class=\"reference internal\" href=\"controlflow.html#keyword-arguments\">4.8.2. Keyword Arguments</a></li>\\n<li class=\"toctree-l3\"><a class=\"reference internal\" href=\"controlflow.html#special-parameters\">4.8.3. Special parameters</a><ul>\\n<li class=\"toctree-l4\"><a class=\"reference internal\" href=\"controlflow.html#positional-or-keyword-arguments\">4.8.3.1. Positional-or-Keyword Arguments</a></li>\\n<li class=\"toctree-l4\"><a class=\"reference internal\" href=\"controlflow.html#positional-only-parameters\">4.8.3.2. Positional-Only Parameters</a></li>\\n<li class=\"toctree-l4\"><a class=\"reference internal\" href=\"controlflow.html#keyword-only-arguments\">4.8.3.3. Keyword-Only Arguments</a></li>\\n<li class=\"toctree-l4\"><a class=\"reference internal\" href=\"controlflow.html#function-examples\">4.8.3.4. Function Examples</a></li>\\n<li class=\"toctree-l4\"><a class=\"reference internal\" href=\"controlflow.html#recap\">4.8.3.5. Recap</a></li>\\n</ul>\\n</li>\\n<li class=\"toctree-l3\"><a class=\"reference internal\" href=\"controlflow.html#arbitrary-argument-lists\">4.8.4. Arbitrary Argument Lists</a></li>\\n<li class=\"toctree-l3\"><a class=\"reference internal\" href=\"controlflow.html#unpacking-argument-lists\">4.8.5. Unpacking Argument Lists</a></li>\\n<li class=\"toctree-l3\"><a class=\"reference internal\" href=\"controlflow.html#lambda-expressions\">4.8.6. Lambda Expressions</a></li>\\n<li class=\"toctree-l3\"><a class=\"reference internal\" href=\"controlflow.html#documentation-strings\">4.8.7. Documentation Strings</a></li>\\n<li class=\"toctree-l3\"><a class=\"reference internal\" href=\"controlflow.html#function-annotations\">4.8.8. Function Annotations</a></li>\\n</ul>\\n</li>\\n<li class=\"toctree-l2\"><a class=\"reference internal\" href=\"controlflow.html#intermezzo-coding-style\">4.9. Intermezzo: Coding Style</a></li>\\n</ul>\\n</li>\\n<li class=\"toctree-l1\"><a class=\"reference internal\" href=\"datastructures.html\">5. Data Structures</a><ul>\\n<li class=\"toctree-l2\"><a class=\"reference internal\" href=\"datastructures.html#more-on-lists\">5.1. More on Lists</a><ul>\\n<li class=\"toctree-l3\"><a class=\"reference internal\" href=\"datastructures.html#using-lists-as-stacks\">5.1.1. Using Lists as Stacks</a></li>\\n<li class=\"toctree-l3\"><a class=\"reference internal\" href=\"datastructures.html#using-lists-as-queues\">5.1.2. Using Lists as Queues</a></li>\\n<li class=\"toctree-l3\"><a class=\"reference internal\" href=\"datastructures.html#list-comprehensions\">5.1.3. List Comprehensions</a></li>\\n<li class=\"toctree-l3\"><a class=\"reference internal\" href=\"datastructures.html#nested-list-comprehensions\">5.1.4. Nested List Comprehensions</a></li>\\n</ul>\\n</li>\\n<li class=\"toctree-l2\"><a class=\"reference internal\" href=\"datastructures.html#the-del-statement\">5.2. The <code class=\"xref std std-keyword docutils literal notranslate\"><span class=\"pre\">del</span></code> statement</a></li>\\n<li class=\"toctree-l2\"><a class=\"reference internal\" href=\"datastructures.html#tuples-and-sequences\">5.3. Tuples and Sequences</a></li>\\n<li class=\"toctree-l2\"><a class=\"reference internal\" href=\"datastructures.html#sets\">5.4. Sets</a></li>\\n<li class=\"toctree-l2\"><a class=\"reference internal\" href=\"datastructures.html#dictionaries\">5.5. Dictionaries</a></li>\\n<li class=\"toctree-l2\"><a class=\"reference internal\" href=\"datastructures.html#looping-techniques\">5.6. Looping Techniques</a></li>\\n<li class=\"toctree-l2\"><a class=\"reference internal\" href=\"datastructures.html#more-on-conditions\">5.7. More on Conditions</a></li>\\n<li class=\"toctree-l2\"><a class=\"reference internal\" href=\"datastructures.html#comparing-sequences-and-other-types\">5.8. Comparing Sequences and Other Types</a></li>\\n</ul>\\n</li>\\n<li class=\"toctree-l1\"><a class=\"reference internal\" href=\"modules.html\">6. Modules</a><ul>\\n<li class=\"toctree-l2\"><a class=\"reference internal\" href=\"modules.html#more-on-modules\">6.1. More on Modules</a><ul>\\n<li class=\"toctree-l3\"><a class=\"reference internal\" href=\"modules.html#executing-modules-as-scripts\">6.1.1. Executing modules as scripts</a></li>\\n<li class=\"toctree-l3\"><a class=\"reference internal\" href=\"modules.html#the-module-search-path\">6.1.2. The Module Search Path</a></li>\\n<li class=\"toctree-l3\"><a class=\"reference internal\" href=\"modules.html#compiled-python-files\">6.1.3. \\xe2\\x80\\x9cCompiled\\xe2\\x80\\x9d Python files</a></li>\\n</ul>\\n</li>\\n<li class=\"toctree-l2\"><a class=\"reference internal\" href=\"modules.html#standard-modules\">6.2. Standard Modules</a></li>\\n<li class=\"toctree-l2\"><a class=\"reference internal\" href=\"modules.html#the-dir-function\">6.3. The <code class=\"xref py py-func docutils literal notranslate\"><span class=\"pre\">dir()</span></code> Function</a></li>\\n<li class=\"toctree-l2\"><a class=\"reference internal\" href=\"modules.html#packages\">6.4. Packages</a><ul>\\n<li class=\"toctree-l3\"><a class=\"reference internal\" href=\"modules.html#importing-from-a-package\">6.4.1. Importing * From a Package</a></li>\\n<li class=\"toctree-l3\"><a class=\"reference internal\" href=\"modules.html#intra-package-references\">6.4.2. Intra-package References</a></li>\\n<li class=\"toctree-l3\"><a class=\"reference internal\" href=\"modules.html#packages-in-multiple-directories\">6.4.3. Packages in Multiple Directories</a></li>\\n</ul>\\n</li>\\n</ul>\\n</li>\\n<li class=\"toctree-l1\"><a class=\"reference internal\" href=\"inputoutput.html\">7. Input and Output</a><ul>\\n<li class=\"toctree-l2\"><a class=\"reference internal\" href=\"inputoutput.html#fancier-output-formatting\">7.1. Fancier Output Formatting</a><ul>\\n<li class=\"toctree-l3\"><a class=\"reference internal\" href=\"inputoutput.html#formatted-string-literals\">7.1.1. Formatted String Literals</a></li>\\n<li class=\"toctree-l3\"><a class=\"reference internal\" href=\"inputoutput.html#the-string-format-method\">7.1.2. The String format() Method</a></li>\\n<li class=\"toctree-l3\"><a class=\"reference internal\" href=\"inputoutput.html#manual-string-formatting\">7.1.3. Manual String Formatting</a></li>\\n<li class=\"toctree-l3\"><a class=\"reference internal\" href=\"inputoutput.html#old-string-formatting\">7.1.4. Old string formatting</a></li>\\n</ul>\\n</li>\\n<li class=\"toctree-l2\"><a class=\"reference internal\" href=\"inputoutput.html#reading-and-writing-files\">7.2. Reading and Writing Files</a><ul>\\n<li class=\"toctree-l3\"><a class=\"reference internal\" href=\"inputoutput.html#methods-of-file-objects\">7.2.1. Methods of File Objects</a></li>\\n<li class=\"toctree-l3\"><a class=\"reference internal\" href=\"inputoutput.html#saving-structured-data-with-json\">7.2.2. Saving structured data with <code class=\"xref py py-mod docutils literal notranslate\"><span class=\"pre\">json</span></code></a></li>\\n</ul>\\n</li>\\n</ul>\\n</li>\\n<li class=\"toctree-l1\"><a class=\"reference internal\" href=\"errors.html\">8. Errors and Exceptions</a><ul>\\n<li class=\"toctree-l2\"><a class=\"reference internal\" href=\"errors.html#syntax-errors\">8.1. Syntax Errors</a></li>\\n<li class=\"toctree-l2\"><a class=\"reference internal\" href=\"errors.html#exceptions\">8.2. Exceptions</a></li>\\n<li class=\"toctree-l2\"><a class=\"reference internal\" href=\"errors.html#handling-exceptions\">8.3. Handling Exceptions</a></li>\\n<li class=\"toctree-l2\"><a class=\"reference internal\" href=\"errors.html#raising-exceptions\">8.4. Raising Exceptions</a></li>\\n<li class=\"toctree-l2\"><a class=\"reference internal\" href=\"errors.html#exception-chaining\">8.5. Exception Chaining</a></li>\\n<li class=\"toctree-l2\"><a class=\"reference internal\" href=\"errors.html#user-defined-exceptions\">8.6. User-defined Exceptions</a></li>\\n<li class=\"toctree-l2\"><a class=\"reference internal\" href=\"errors.html#defining-clean-up-actions\">8.7. Defining Clean-up Actions</a></li>\\n<li class=\"toctree-l2\"><a class=\"reference internal\" href=\"errors.html#predefined-clean-up-actions\">8.8. Predefined Clean-up Actions</a></li>\\n<li class=\"toctree-l2\"><a class=\"reference internal\" href=\"errors.html#raising-and-handling-multiple-unrelated-exceptions\">8.9. Raising and Handling Multiple Unrelated Exceptions</a></li>\\n<li class=\"toctree-l2\"><a class=\"reference internal\" href=\"errors.html#enriching-exceptions-with-notes\">8.10. Enriching Exceptions with Notes</a></li>\\n</ul>\\n</li>\\n<li class=\"toctree-l1\"><a class=\"reference internal\" href=\"classes.html\">9. Classes</a><ul>\\n<li class=\"toctree-l2\"><a class=\"reference internal\" href=\"classes.html#a-word-about-names-and-objects\">9.1. A Word About Names and Objects</a></li>\\n<li class=\"toctree-l2\"><a class=\"reference internal\" href=\"classes.html#python-scopes-and-namespaces\">9.2. Python Scopes and Namespaces</a><ul>\\n<li class=\"toctree-l3\"><a class=\"reference internal\" href=\"classes.html#scopes-and-namespaces-example\">9.2.1. Scopes and Namespaces Example</a></li>\\n</ul>\\n</li>\\n<li class=\"toctree-l2\"><a class=\"reference internal\" href=\"classes.html#a-first-look-at-classes\">9.3. A First Look at Classes</a><ul>\\n<li class=\"toctree-l3\"><a class=\"reference internal\" href=\"classes.html#class-definition-syntax\">9.3.1. Class Definition Syntax</a></li>\\n<li class=\"toctree-l3\"><a class=\"reference internal\" href=\"classes.html#class-objects\">9.3.2. Class Objects</a></li>\\n<li class=\"toctree-l3\"><a class=\"reference internal\" href=\"classes.html#instance-objects\">9.3.3. Instance Objects</a></li>\\n<li class=\"toctree-l3\"><a class=\"reference internal\" href=\"classes.html#method-objects\">9.3.4. Method Objects</a></li>\\n<li class=\"toctree-l3\"><a class=\"reference internal\" href=\"classes.html#class-and-instance-variables\">9.3.5. Class and Instance Variables</a></li>\\n</ul>\\n</li>\\n<li class=\"toctree-l2\"><a class=\"reference internal\" href=\"classes.html#random-remarks\">9.4. Random Remarks</a></li>\\n<li class=\"toctree-l2\"><a class=\"reference internal\" href=\"classes.html#inheritance\">9.5. Inheritance</a><ul>\\n<li class=\"toctree-l3\"><a class=\"reference internal\" href=\"classes.html#multiple-inheritance\">9.5.1. Multiple Inheritance</a></li>\\n</ul>\\n</li>\\n<li class=\"toctree-l2\"><a class=\"reference internal\" href=\"classes.html#private-variables\">9.6. Private Variables</a></li>\\n<li class=\"toctree-l2\"><a class=\"reference internal\" href=\"classes.html#odds-and-ends\">9.7. Odds and Ends</a></li>\\n<li class=\"toctree-l2\"><a class=\"reference internal\" href=\"classes.html#iterators\">9.8. Iterators</a></li>\\n<li class=\"toctree-l2\"><a class=\"reference internal\" href=\"classes.html#generators\">9.9. Generators</a></li>\\n<li class=\"toctree-l2\"><a class=\"reference internal\" href=\"classes.html#generator-expressions\">9.10. Generator Expressions</a></li>\\n</ul>\\n</li>\\n<li class=\"toctree-l1\"><a class=\"reference internal\" href=\"stdlib.html\">10. Brief Tour of the Standard Library</a><ul>\\n<li class=\"toctree-l2\"><a class=\"reference internal\" href=\"stdlib.html#operating-system-interface\">10.1. Operating System Interface</a></li>\\n<li class=\"toctree-l2\"><a class=\"reference internal\" href=\"stdlib.html#file-wildcards\">10.2. File Wildcards</a></li>\\n<li class=\"toctree-l2\"><a class=\"reference internal\" href=\"stdlib.html#command-line-arguments\">10.3. Command Line Arguments</a></li>\\n<li class=\"toctree-l2\"><a class=\"reference internal\" href=\"stdlib.html#error-output-redirection-and-program-termination\">10.4. Error Output Redirection and Program Termination</a></li>\\n<li class=\"toctree-l2\"><a class=\"reference internal\" href=\"stdlib.html#string-pattern-matching\">10.5. String Pattern Matching</a></li>\\n<li class=\"toctree-l2\"><a class=\"reference internal\" href=\"stdlib.html#mathematics\">10.6. Mathematics</a></li>\\n<li class=\"toctree-l2\"><a class=\"reference internal\" href=\"stdlib.html#internet-access\">10.7. Internet Access</a></li>\\n<li class=\"toctree-l2\"><a class=\"reference internal\" href=\"stdlib.html#dates-and-times\">10.8. Dates and Times</a></li>\\n<li class=\"toctree-l2\"><a class=\"reference internal\" href=\"stdlib.html#data-compression\">10.9. Data Compression</a></li>\\n<li class=\"toctree-l2\"><a class=\"reference internal\" href=\"stdlib.html#performance-measurement\">10.10. Performance Measurement</a></li>\\n<li class=\"toctree-l2\"><a class=\"reference internal\" href=\"stdlib.html#quality-control\">10.11. Quality Control</a></li>\\n<li class=\"toctree-l2\"><a class=\"reference internal\" href=\"stdlib.html#batteries-included\">10.12. Batteries Included</a></li>\\n</ul>\\n</li>\\n<li class=\"toctree-l1\"><a class=\"reference internal\" href=\"stdlib2.html\">11. Brief Tour of the Standard Library \\xe2\\x80\\x94 Part II</a><ul>\\n<li class=\"toctree-l2\"><a class=\"reference internal\" href=\"stdlib2.html#output-formatting\">11.1. Output Formatting</a></li>\\n<li class=\"toctree-l2\"><a class=\"reference internal\" href=\"stdlib2.html#templating\">11.2. Templating</a></li>\\n<li class=\"toctree-l2\"><a class=\"reference internal\" href=\"stdlib2.html#working-with-binary-data-record-layouts\">11.3. Working with Binary Data Record Layouts</a></li>\\n<li class=\"toctree-l2\"><a class=\"reference internal\" href=\"stdlib2.html#multi-threading\">11.4. Multi-threading</a></li>\\n<li class=\"toctree-l2\"><a class=\"reference internal\" href=\"stdlib2.html#logging\">11.5. Logging</a></li>\\n<li class=\"toctree-l2\"><a class=\"reference internal\" href=\"stdlib2.html#weak-references\">11.6. Weak References</a></li>\\n<li class=\"toctree-l2\"><a class=\"reference internal\" href=\"stdlib2.html#tools-for-working-with-lists\">11.7. Tools for Working with Lists</a></li>\\n<li class=\"toctree-l2\"><a class=\"reference internal\" href=\"stdlib2.html#decimal-floating-point-arithmetic\">11.8. Decimal Floating Point Arithmetic</a></li>\\n</ul>\\n</li>\\n<li class=\"toctree-l1\"><a class=\"reference internal\" href=\"venv.html\">12. Virtual Environments and Packages</a><ul>\\n<li class=\"toctree-l2\"><a class=\"reference internal\" href=\"venv.html#introduction\">12.1. Introduction</a></li>\\n<li class=\"toctree-l2\"><a class=\"reference internal\" href=\"venv.html#creating-virtual-environments\">12.2. Creating Virtual Environments</a></li>\\n<li class=\"toctree-l2\"><a class=\"reference internal\" href=\"venv.html#managing-packages-with-pip\">12.3. Managing Packages with pip</a></li>\\n</ul>\\n</li>\\n<li class=\"toctree-l1\"><a class=\"reference internal\" href=\"whatnow.html\">13. What Now?</a></li>\\n<li class=\"toctree-l1\"><a class=\"reference internal\" href=\"interactive.html\">14. Interactive Input Editing and History Substitution</a><ul>\\n<li class=\"toctree-l2\"><a class=\"reference internal\" href=\"interactive.html#tab-completion-and-history-editing\">14.1. Tab Completion and History Editing</a></li>\\n<li class=\"toctree-l2\"><a class=\"reference internal\" href=\"interactive.html#alternatives-to-the-interactive-interpreter\">14.2. Alternatives to the Interactive Interpreter</a></li>\\n</ul>\\n</li>\\n<li class=\"toctree-l1\"><a class=\"reference internal\" href=\"floatingpoint.html\">15. Floating Point Arithmetic:  Issues and Limitations</a><ul>\\n<li class=\"toctree-l2\"><a class=\"reference internal\" href=\"floatingpoint.html#representation-error\">15.1. Representation Error</a></li>\\n</ul>\\n</li>\\n<li class=\"toctree-l1\"><a class=\"reference internal\" href=\"appendix.html\">16. Appendix</a><ul>\\n<li class=\"toctree-l2\"><a class=\"reference internal\" href=\"appendix.html#interactive-mode\">16.1. Interactive Mode</a><ul>\\n<li class=\"toctree-l3\"><a class=\"reference internal\" href=\"appendix.html#error-handling\">16.1.1. Error Handling</a></li>\\n<li class=\"toctree-l3\"><a class=\"reference internal\" href=\"appendix.html#executable-python-scripts\">16.1.2. Executable Python Scripts</a></li>\\n<li class=\"toctree-l3\"><a class=\"reference internal\" href=\"appendix.html#the-interactive-startup-file\">16.1.3. The Interactive Startup File</a></li>\\n<li class=\"toctree-l3\"><a class=\"reference internal\" href=\"appendix.html#the-customization-modules\">16.1.4. The Customization Modules</a></li>\\n</ul>\\n</li>\\n</ul>\\n</li>\\n</ul>\\n</div>\\n</section>\\n\\n\\n            <div class=\"clearer\"></div>\\n          </div>\\n        </div>\\n      </div>\\n      <div class=\"sphinxsidebar\" role=\"navigation\" aria-label=\"main navigation\">\\n        <div class=\"sphinxsidebarwrapper\">\\n  <div>\\n    <h4>Previous topic</h4>\\n    <p class=\"topless\"><a href=\"../whatsnew/changelog.html\"\\n                          title=\"previous chapter\">Changelog</a></p>\\n  </div>\\n  <div>\\n    <h4>Next topic</h4>\\n    <p class=\"topless\"><a href=\"appetite.html\"\\n                          title=\"next chapter\"><span class=\"section-number\">1. </span>Whetting Your Appetite</a></p>\\n  </div>\\n  <div role=\"note\" aria-label=\"source link\">\\n    <h3>This Page</h3>\\n    <ul class=\"this-page-menu\">\\n      <li><a href=\"../bugs.html\">Report a Bug</a></li>\\n      <li>\\n        <a href=\"https://github.com/python/cpython/blob/main/Doc/tutorial/index.rst\"\\n            rel=\"nofollow\">Show Source\\n        </a>\\n      </li>\\n    </ul>\\n  </div>\\n        </div>\\n<div id=\"sidebarbutton\" title=\"Collapse sidebar\">\\n<span>\\xc2\\xab</span>\\n</div>\\n\\n      </div>\\n      <div class=\"clearer\"></div>\\n    </div>  \\n    <div class=\"related\" role=\"navigation\" aria-label=\"related navigation\">\\n      <h3>Navigation</h3>\\n      <ul>\\n        <li class=\"right\" style=\"margin-right: 10px\">\\n          <a href=\"../genindex.html\" title=\"General Index\"\\n             >index</a></li>\\n        <li class=\"right\" >\\n          <a href=\"../py-modindex.html\" title=\"Python Module Index\"\\n             >modules</a> |</li>\\n        <li class=\"right\" >\\n          <a href=\"appetite.html\" title=\"1. Whetting Your Appetite\"\\n             >next</a> |</li>\\n        <li class=\"right\" >\\n          <a href=\"../whatsnew/changelog.html\" title=\"Changelog\"\\n             >previous</a> |</li>\\n\\n          <li><img src=\"../_static/py.svg\" alt=\"Python logo\" style=\"vertical-align: middle; margin-top: -1px\"/></li>\\n          <li><a href=\"https://www.python.org/\">Python</a> &#187;</li>\\n          <li class=\"switchers\">\\n            <div class=\"language_switcher_placeholder\"></div>\\n            <div class=\"version_switcher_placeholder\"></div>\\n          </li>\\n          <li>\\n              \\n          </li>\\n    <li id=\"cpython-language-and-version\">\\n      <a href=\"../index.html\">3.12.3 Documentation</a> &#187;\\n    </li>\\n\\n        <li class=\"nav-item nav-item-this\"><a href=\"\">The Python Tutorial</a></li>\\n                <li class=\"right\">\\n                    \\n\\n    <div class=\"inline-search\" role=\"search\">\\n        <form class=\"inline-search\" action=\"../search.html\" method=\"get\">\\n          <input placeholder=\"Quick search\" aria-label=\"Quick search\" type=\"search\" name=\"q\" id=\"search-box\" />\\n          <input type=\"submit\" value=\"Go\" />\\n        </form>\\n    </div>\\n                     |\\n                </li>\\n            <li class=\"right\">\\n<label class=\"theme-selector-label\">\\n    Theme\\n    <select class=\"theme-selector\" oninput=\"activateTheme(this.value)\">\\n        <option value=\"auto\" selected>Auto</option>\\n        <option value=\"light\">Light</option>\\n        <option value=\"dark\">Dark</option>\\n    </select>\\n</label> |</li>\\n            \\n      </ul>\\n    </div>  \\n    <div class=\"footer\">\\n    &copy; \\n      <a href=\"../copyright.html\">\\n    \\n    Copyright\\n    \\n      </a>\\n     2001-2024, Python Software Foundation.\\n    <br />\\n    This page is licensed under the Python Software Foundation License Version 2.\\n    <br />\\n    Examples, recipes, and other code in the documentation are additionally licensed under the Zero Clause BSD License.\\n    <br />\\n    \\n      See <a href=\"/license.html\">History and License</a> for more information.<br />\\n    \\n    \\n    <br />\\n\\n    The Python Software Foundation is a non-profit corporation.\\n<a href=\"https://www.python.org/psf/donations/\">Please donate.</a>\\n<br />\\n    <br />\\n      Last updated on Apr 24, 2024 (00:15 UTC).\\n    \\n      <a href=\"/bugs.html\">Found a bug</a>?\\n    \\n    <br />\\n\\n    Created using <a href=\"https://www.sphinx-doc.org/\">Sphinx</a> 7.2.6.\\n    </div>\\n\\n    <script type=\"text/javascript\" src=\"../_static/switchers.js\"></script>\\n  </body>\\n</html>'\n"
     ]
    }
   ],
   "source": [
    "import urllib.request\n",
    "\n",
    "html_text = urllib.request.urlopen(\"https://docs.python.org/3/tutorial/\").read()\n",
    "\n",
    "print(html_text)"
   ]
  }
 ],
 "metadata": {
  "kernelspec": {
   "display_name": "Python 3 (ipykernel)",
   "language": "python",
   "name": "python3"
  },
  "language_info": {
   "codemirror_mode": {
    "name": "ipython",
    "version": 3
   },
   "file_extension": ".py",
   "mimetype": "text/x-python",
   "name": "python",
   "nbconvert_exporter": "python",
   "pygments_lexer": "ipython3",
   "version": "3.11.4"
  },
  "toc": {
   "base_numbering": 1,
   "nav_menu": {},
   "number_sections": true,
   "sideBar": true,
   "skip_h1_title": false,
   "title_cell": "Table of Contents",
   "title_sidebar": "Contents",
   "toc_cell": false,
   "toc_position": {},
   "toc_section_display": true,
   "toc_window_display": false
  }
 },
 "nbformat": 4,
 "nbformat_minor": 2
}
